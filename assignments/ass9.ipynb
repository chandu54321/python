{
 "cells": [
  {
   "cell_type": "markdown",
   "metadata": {},
   "source": [
    "# list"
   ]
  },
  {
   "cell_type": "code",
   "execution_count": null,
   "metadata": {},
   "outputs": [
    {
     "name": "stdout",
     "output_type": "stream",
     "text": [
      "[2, 4, 6, 6, 8, 10]\n"
     ]
    }
   ],
   "source": [
    "#  1. Create a list of 10 integers and print only the even numbers\n",
    "list = [1, 2, 3, 4, 5, 6, 6, 7, 8, 9, 10]\n",
    "result = []\n",
    "for x in list:\n",
    "    if x % 2 == 0:\n",
    "        result.append(x)\n",
    "print(result)"
   ]
  },
  {
   "cell_type": "code",
   "execution_count": 16,
   "metadata": {},
   "outputs": [
    {
     "name": "stdout",
     "output_type": "stream",
     "text": [
      "21\n"
     ]
    }
   ],
   "source": [
    "# 2. Write a program to find the sum of all elements in a list.\n",
    "l1 = [1, 2, 3, 4, 5, 6]\n",
    "print(sum(l1))"
   ]
  },
  {
   "cell_type": "code",
   "execution_count": 20,
   "metadata": {},
   "outputs": [
    {
     "name": "stdout",
     "output_type": "stream",
     "text": [
      "{1, 2, 3, 4, 5, 6}\n"
     ]
    }
   ],
   "source": [
    "#  3. Remove all duplicates from a list.\n",
    "l = [1, 2, 2, 3, 3, 4, 4, 4, 5, 6, 6]\n",
    "s = set(l)\n",
    "print(s)"
   ]
  },
  {
   "cell_type": "code",
   "execution_count": 27,
   "metadata": {},
   "outputs": [
    {
     "name": "stdout",
     "output_type": "stream",
     "text": [
      "[1, 2, 2, 3, 4, 5, 6, 8, 9]\n",
      "the asscending order is  [1, 2, 2, 3, 4, 5, 6, 8, 9]\n",
      "the descending order is  [9, 8, 6, 5, 4, 3, 2, 2, 1]\n"
     ]
    }
   ],
   "source": [
    "# 4. Sort a list in ascending and descending order.\n",
    "as_d = [1, 4, 5, 6, 3, 8, 9, 2, 2]\n",
    "as_d.sort()\n",
    "print(as_d)\n",
    "print(\"the asscending order is \", as_d)\n",
    "as_d.reverse()\n",
    "print(\"the descending order is \", as_d)"
   ]
  },
  {
   "cell_type": "code",
   "execution_count": 30,
   "metadata": {},
   "outputs": [
    {
     "name": "stdout",
     "output_type": "stream",
     "text": [
      "the maximum number is  88\n",
      "the minumum number is  0\n"
     ]
    }
   ],
   "source": [
    "# 5. Find the maximum and minimum element in a list.\n",
    "l = [1, 2, 3, 4, 9, 88, 11, 0]\n",
    "print(\"the maximum number is \", max(l))\n",
    "print(\"the minumum number is \", min(l))"
   ]
  },
  {
   "cell_type": "code",
   "execution_count": 3,
   "metadata": {},
   "outputs": [
    {
     "name": "stdout",
     "output_type": "stream",
     "text": [
      "<list_reverseiterator object at 0x00000223D8F10DF0>\n",
      "<class 'list_reverseiterator'>\n",
      "[3, 2, 1]\n"
     ]
    }
   ],
   "source": [
    "# 6. Reverse a list without using the reverse() function.\n",
    "\n",
    "ls = [1, 2, 3]\n",
    "n = reversed(ls)\n",
    "print(n)\n",
    "print(type(n))\n",
    "print(list(n))"
   ]
  },
  {
   "cell_type": "code",
   "execution_count": 38,
   "metadata": {},
   "outputs": [
    {
     "name": "stdout",
     "output_type": "stream",
     "text": [
      "4\n"
     ]
    }
   ],
   "source": [
    "# 7. Write a program to count how many times each element appears in a list.\n",
    "f = [1, 2, 3, 3, 3, 3, 4, 4]\n",
    "print(f.count(3))\n"
   ]
  },
  {
   "cell_type": "code",
   "execution_count": 110,
   "metadata": {},
   "outputs": [
    {
     "name": "stdout",
     "output_type": "stream",
     "text": [
      "['Anans', 'Aaaa']\n"
     ]
    }
   ],
   "source": [
    "# 8. Take a list of names and print only those that start with 'A'. \n",
    "l = [\"first\", \"Anans\", \"python\", \"Aaaa\"]\n",
    "d = []\n",
    "for x in l:\n",
    "    if x[0] == \"A\":\n",
    "        d.append(x)\n",
    "print(d)"
   ]
  },
  {
   "cell_type": "code",
   "execution_count": 5,
   "metadata": {},
   "outputs": [
    {
     "name": "stdout",
     "output_type": "stream",
     "text": [
      "5\n"
     ]
    }
   ],
   "source": [
    "#9 Create a nested list and access a specific element.\n",
    "l = [(1,2,3), (5,4,3)]\n",
    "print(l[1][0])"
   ]
  },
  {
   "cell_type": "code",
   "execution_count": 6,
   "metadata": {},
   "outputs": [
    {
     "name": "stdout",
     "output_type": "stream",
     "text": [
      "[1, 2, 3, 4, 3, 4, 5, 5]\n"
     ]
    }
   ],
   "source": [
    "#10  Merge two lists into one.\n",
    "l1 = [1, 2, 3, 4]\n",
    "l2 = [3, 4, 5, 5]\n",
    "m = l1 + l2\n",
    "print(m)"
   ]
  },
  {
   "cell_type": "code",
   "execution_count": 9,
   "metadata": {},
   "outputs": [
    {
     "name": "stdout",
     "output_type": "stream",
     "text": [
      "after removeing the even numberes [1, 3, 5]\n"
     ]
    }
   ],
   "source": [
    "#  11. Remove all even numbers from a list.\n",
    "le = [1, 2, 3, 5, 8, 4, 6]\n",
    "d = []\n",
    "for x in le:\n",
    "    if x % 2 != 0:\n",
    "        d.append(x)\n",
    "print(\"after removeing the even numberes\", d)\n",
    "        "
   ]
  },
  {
   "cell_type": "code",
   "execution_count": 16,
   "metadata": {},
   "outputs": [
    {
     "name": "stdout",
     "output_type": "stream",
     "text": [
      "['python is a programming language']\n",
      "<class 'str'>\n",
      "['PYTHON IS A PROGRAMMING LANGUAGE']\n"
     ]
    }
   ],
   "source": [
    "#  12. Take a list of strings and convert all to uppercase.\n",
    "ls = [\"python is a programming language\"]\n",
    "d = str(ls)\n",
    "\n",
    "print(d)\n",
    "print(type(d))\n",
    "print(d.upper())"
   ]
  },
  {
   "cell_type": "code",
   "execution_count": 22,
   "metadata": {},
   "outputs": [
    {
     "name": "stdout",
     "output_type": "stream",
     "text": [
      "[1, 3, 4, 5, 6, 6, 8]\n",
      "8\n"
     ]
    }
   ],
   "source": [
    "# 13  Find the second largest number in a list.\n",
    "l = [1, 3, 4, 5, 6, 6, 8, 99]\n",
    "l.remove(max(l))\n",
    "print(l)\n",
    "print(max(l))\n"
   ]
  },
  {
   "cell_type": "code",
   "execution_count": 25,
   "metadata": {},
   "outputs": [
    {
     "name": "stdout",
     "output_type": "stream",
     "text": [
      "[5, 2, 3, 4, 1]\n"
     ]
    }
   ],
   "source": [
    "#14  Swap the first and last element in a list.\n",
    "l = [1, 2, 3, 4, 5]\n",
    "l[0], l[-1] = l[-1], l[0]\n",
    "print(l)"
   ]
  },
  {
   "cell_type": "code",
   "execution_count": 117,
   "metadata": {},
   "outputs": [
    {
     "name": "stdout",
     "output_type": "stream",
     "text": [
      "[1, 2, 3]\n",
      "[4, 4, 5, 6]\n"
     ]
    }
   ],
   "source": [
    "#  15. Write a program to split a list into two halves.\n",
    "f = [1, 2, 3, 4, 4, 5, 6]\n",
    "print(f[0:3])\n",
    "print(f[3:9])"
   ]
  },
  {
   "cell_type": "code",
   "execution_count": 115,
   "metadata": {},
   "outputs": [
    {
     "name": "stdout",
     "output_type": "stream",
     "text": [
      "['apple', 'banana', 'elephant']\n"
     ]
    }
   ],
   "source": [
    "#  16. Filter a list to only keep strings with length > 4.\n",
    "\n",
    "l = ['apple', 'cat', 'banana', 'dog', 'elephant']\n",
    "ll = []\n",
    "for x in l:\n",
    "    if len(x) > 4:\n",
    "        ll.append(x)\n",
    "print(ll)\n",
    "\n"
   ]
  },
  {
   "cell_type": "code",
   "execution_count": null,
   "metadata": {},
   "outputs": [
    {
     "name": "stdout",
     "output_type": "stream",
     "text": [
      "21\n",
      "[1, 2, 3, 4]\n"
     ]
    }
   ],
   "source": [
    "#  17. Convert a list to a comma-separated string. (not complited)\n",
    "l = [1, 2, 3, 4]\n",
    "print(d)\n",
    "print(l)"
   ]
  },
  {
   "cell_type": "code",
   "execution_count": 33,
   "metadata": {},
   "outputs": [
    {
     "name": "stdout",
     "output_type": "stream",
     "text": [
      "it is pallindrome\n"
     ]
    }
   ],
   "source": [
    "#  18. Check if a list is a palindrome.\n",
    "l = [1, 2, 1]\n",
    "if l[::-1] == l:\n",
    "    print(\"it is pallindrome\")\n",
    "else:\n",
    "    print(\"not a pallindrome\")"
   ]
  },
  {
   "cell_type": "code",
   "execution_count": null,
   "metadata": {},
   "outputs": [
    {
     "name": "stdout",
     "output_type": "stream",
     "text": [
      "21\n",
      "3.5\n"
     ]
    }
   ],
   "source": [
    "#  19. Find the average of numbers in a list.\n",
    "l = [1, 2, 3, 4, 5, 6]\n",
    "d = sum(l)\n",
    "s = d /len(l)\n",
    "print(d)\n",
    "print(s)"
   ]
  },
  {
   "cell_type": "code",
   "execution_count": null,
   "metadata": {},
   "outputs": [
    {
     "name": "stdout",
     "output_type": "stream",
     "text": [
      "0\n",
      "6\n"
     ]
    }
   ],
   "source": [
    "#  20. Replace all negative numbers in a list with 0 (not complited)\n",
    "f = [1, -1, 4, 5, -5, 8, -1]\n",
    "\n",
    "print(x)"
   ]
  },
  {
   "cell_type": "markdown",
   "metadata": {},
   "source": [
    "# tuple"
   ]
  },
  {
   "cell_type": "code",
   "execution_count": 40,
   "metadata": {},
   "outputs": [
    {
     "name": "stdout",
     "output_type": "stream",
     "text": [
      "1\n",
      "2\n",
      "3\n",
      "4\n",
      "4\n",
      "-1\n",
      "<class 'tuple'>\n"
     ]
    }
   ],
   "source": [
    "#  21. Create a tuple and access each element using a loop.\n",
    "d = (1, 2, 3, 4, 4, -1)\n",
    "for x in d:\n",
    "    print(x)\n",
    "print(type(d))"
   ]
  },
  {
   "cell_type": "code",
   "execution_count": 41,
   "metadata": {},
   "outputs": [
    {
     "name": "stdout",
     "output_type": "stream",
     "text": [
      "[2, 3, 4, 4, 5]\n",
      "<class 'list'>\n"
     ]
    }
   ],
   "source": [
    "# 22  22. Convert a tuple to a list and vice versa.\n",
    "t = (2, 3, 4, 4, 5)\n",
    "l = list(t)\n",
    "print(l)\n",
    "print(type(l))"
   ]
  },
  {
   "cell_type": "code",
   "execution_count": 42,
   "metadata": {},
   "outputs": [
    {
     "name": "stdout",
     "output_type": "stream",
     "text": [
      "4\n"
     ]
    }
   ],
   "source": [
    "#23  Find the index of a specific element in a tuple.\n",
    "t = (4, 5, 6)\n",
    "print(t[0])\n"
   ]
  },
  {
   "cell_type": "code",
   "execution_count": 43,
   "metadata": {},
   "outputs": [
    {
     "name": "stdout",
     "output_type": "stream",
     "text": [
      "True\n"
     ]
    }
   ],
   "source": [
    "#  24. Check if an element exists in a tuple.\n",
    "t = (5, 7, 8)\n",
    "print(5 in t)"
   ]
  },
  {
   "cell_type": "code",
   "execution_count": 44,
   "metadata": {},
   "outputs": [
    {
     "name": "stdout",
     "output_type": "stream",
     "text": [
      "2\n"
     ]
    }
   ],
   "source": [
    "#  25. Count the number of times an element appears in a tuple.\n",
    "c = (3, 3, 3, 4, 5, 5)\n",
    "print(c.count(5))"
   ]
  },
  {
   "cell_type": "code",
   "execution_count": 45,
   "metadata": {},
   "outputs": [
    {
     "name": "stdout",
     "output_type": "stream",
     "text": [
      "(3, 4, 4)\n"
     ]
    }
   ],
   "source": [
    "#  26. Slice a tuple from index 2 to 5.\n",
    "d = (1, 2, 3, 4, 4, 5, 6)\n",
    "print(d[2:5])"
   ]
  },
  {
   "cell_type": "code",
   "execution_count": 47,
   "metadata": {},
   "outputs": [
    {
     "name": "stdout",
     "output_type": "stream",
     "text": [
      "(1, 2, 3, 4, 5, 6, 7)\n"
     ]
    }
   ],
   "source": [
    "#  27. Join two tuples and print the result.\n",
    "t1 = (1, 2, 3, 4)\n",
    "t2 = (5, 6, 7)\n",
    "t3 = t1 + t2\n",
    "print(t3)"
   ]
  },
  {
   "cell_type": "code",
   "execution_count": 49,
   "metadata": {},
   "outputs": [
    {
     "name": "stdout",
     "output_type": "stream",
     "text": [
      "24\n"
     ]
    }
   ],
   "source": [
    "#  28. Write a program to multiply all numbers in a tuple.\n",
    "t = (1, 2, 3, 4)\n",
    "r = 1\n",
    "for x in t:\n",
    "    r *=x\n",
    "print(r)"
   ]
  },
  {
   "cell_type": "code",
   "execution_count": 50,
   "metadata": {},
   "outputs": [
    {
     "name": "stdout",
     "output_type": "stream",
     "text": [
      "7\n",
      "1\n"
     ]
    }
   ],
   "source": [
    "# 29. Find the maximum and minimum elements in a tuple.\n",
    "t = (1, 2, 3, 4, 5, 5, 6, 7)\n",
    "print(max(t))\n",
    "print(min(t))"
   ]
  },
  {
   "cell_type": "code",
   "execution_count": 51,
   "metadata": {},
   "outputs": [
    {
     "name": "stdout",
     "output_type": "stream",
     "text": [
      "5\n"
     ]
    }
   ],
   "source": [
    "#  30. Create a nested tuple and access inner elements.\n",
    "tn = ( (1, 2, 3), (3, 4, 5))\n",
    "print(tn[1][2])"
   ]
  },
  {
   "cell_type": "code",
   "execution_count": 125,
   "metadata": {},
   "outputs": [
    {
     "name": "stdout",
     "output_type": "stream",
     "text": [
      "20\n"
     ]
    }
   ],
   "source": [
    "#  31. Compare two tuples and print the larger one based on sum.\n",
    "t1 = (1, 2, 3, 5, 6)\n",
    "t2 = (2, 4, 5, 6 , 1, 1 , 1)\n",
    "if len(t1) > len(t2):\n",
    "    print(sum(t1))\n",
    "else:\n",
    "    print(sum(t2))"
   ]
  },
  {
   "cell_type": "code",
   "execution_count": 132,
   "metadata": {},
   "outputs": [
    {
     "name": "stdout",
     "output_type": "stream",
     "text": [
      "0\n"
     ]
    }
   ],
   "source": [
    "#  32. Replace the third element in a tuple .\n",
    "t3 = (1, 2, 4, 6, 7)\n",
    "t = list(t3)\n",
    "t[2] = 0\n",
    "print(t[2])\n"
   ]
  },
  {
   "cell_type": "code",
   "execution_count": null,
   "metadata": {},
   "outputs": [],
   "source": [
    "#  33. Iterate over a tuple and print index with value. (not done)\n",
    "f = (1, 2, 3, 4, 6)\n",
    "for x in f:\n",
    "    print()"
   ]
  },
  {
   "cell_type": "code",
   "execution_count": 124,
   "metadata": {},
   "outputs": [
    {
     "name": "stdout",
     "output_type": "stream",
     "text": [
      "8\n"
     ]
    }
   ],
   "source": [
    "# 34  Find the length of a tuple without using len()\n",
    "f = (1, 2, 3, 4, 5, 7, 7, 4)\n",
    "count = 0\n",
    "for x in f:\n",
    "    count += 1\n",
    "print(count)"
   ]
  },
  {
   "cell_type": "code",
   "execution_count": null,
   "metadata": {},
   "outputs": [
    {
     "data": {
      "text/plain": [
       "[1, 4, 9]"
      ]
     },
     "execution_count": 58,
     "metadata": {},
     "output_type": "execute_result"
    }
   ],
   "source": [
    "# 35 Write a function that accepts a tuple of numbers and returns the square of each\n",
    "def square(n):\n",
    "    s = []\n",
    "    for x in n:\n",
    "        d = x ** 2\n",
    "        s.append(d)\n",
    "    return s\n",
    "square((1, 2, 3))"
   ]
  },
  {
   "cell_type": "markdown",
   "metadata": {},
   "source": [
    "# set"
   ]
  },
  {
   "cell_type": "code",
   "execution_count": 59,
   "metadata": {},
   "outputs": [
    {
     "name": "stdout",
     "output_type": "stream",
     "text": [
      "{1, 2, 3, 4}\n"
     ]
    }
   ],
   "source": [
    "#  36. Create a set with some repeated elements and show duplicates are removed.\n",
    "s = {1, 1, 2, 2, 3, 3, 4, 4, 4}\n",
    "print(s)"
   ]
  },
  {
   "cell_type": "code",
   "execution_count": 61,
   "metadata": {},
   "outputs": [
    {
     "name": "stdout",
     "output_type": "stream",
     "text": [
      "{1, 2, 3}\n",
      "{1, 2, 3, 9}\n"
     ]
    }
   ],
   "source": [
    "#  37. Add and remove items from a set.\n",
    "s = {1, 2, 3, 4}\n",
    "s.remove(4)\n",
    "print(s)\n",
    "s.add(9)\n",
    "print(s)"
   ]
  },
  {
   "cell_type": "code",
   "execution_count": 69,
   "metadata": {},
   "outputs": [
    {
     "name": "stdout",
     "output_type": "stream",
     "text": [
      "{1, 2, 3, 4, 5, 6}\n",
      "{1, 2}\n"
     ]
    }
   ],
   "source": [
    "#  38. Write a program to perform union and intersection of two sets.\n",
    "s1 = {1, 2, 3}\n",
    "s2 = {4, 5, 6, 1, 2}\n",
    "union_s = s1.union(s2)\n",
    "inter = s1.intersection(s2)\n",
    "print(union_s)\n",
    "print(inter)"
   ]
  },
  {
   "cell_type": "code",
   "execution_count": null,
   "metadata": {},
   "outputs": [
    {
     "name": "stdout",
     "output_type": "stream",
     "text": [
      "True\n",
      "True\n"
     ]
    }
   ],
   "source": [
    "#  39. Check if a set is a subset or superset of another.\n",
    "t1 = {1, 2, 3}\n",
    "t2 = {1, 2, 3, 4}\n",
    "print(t1.issubset(t2))\n",
    "print(t2.issuperset(t1))"
   ]
  },
  {
   "cell_type": "code",
   "execution_count": 70,
   "metadata": {},
   "outputs": [
    {
     "name": "stdout",
     "output_type": "stream",
     "text": [
      "{1, 2, 3, 4, 5}\n"
     ]
    }
   ],
   "source": [
    "#  40. Remove duplicates from a list using a set.\n",
    "l1 = [1, 2, 2, 3, 4, 4, 5, 5]\n",
    "s = set(l1)\n",
    "print(s)"
   ]
  },
  {
   "cell_type": "code",
   "execution_count": 71,
   "metadata": {},
   "outputs": [
    {
     "name": "stdout",
     "output_type": "stream",
     "text": [
      "{1, 2}\n"
     ]
    }
   ],
   "source": [
    "#  41. Find common elements between two sets.\n",
    "l1 = {1, 2, 3, 4, 5}\n",
    "l2 = {1, 2, 6, 7}\n",
    "common = l1.intersection(l2)\n",
    "print(common)"
   ]
  },
  {
   "cell_type": "code",
   "execution_count": 107,
   "metadata": {},
   "outputs": [
    {
     "name": "stdout",
     "output_type": "stream",
     "text": [
      "{3, 4, 5}\n"
     ]
    }
   ],
   "source": [
    "# 42. Find elements in one set but not in another.\n",
    "l1 = {1, 2, 3, 4, 5}\n",
    "l2 = {1, 2, 6, 7}\n",
    "d = l1.difference(l2)\n",
    "print(d)\n"
   ]
  },
  {
   "cell_type": "code",
   "execution_count": 13,
   "metadata": {},
   "outputs": [
    {
     "name": "stdout",
     "output_type": "stream",
     "text": [
      "{1, 2, 5, 6, 7}\n"
     ]
    }
   ],
   "source": [
    "#  43. Write a program to find the symmetric difference between two sets.\n",
    "s1 = {1, 2, 3, 4}\n",
    "s2 = {3, 4, 5, 6, 7}\n",
    "sy = s1.symmetric_difference(s2)\n",
    "print(sy)"
   ]
  },
  {
   "cell_type": "code",
   "execution_count": 72,
   "metadata": {},
   "outputs": [
    {
     "name": "stdout",
     "output_type": "stream",
     "text": [
      "[1, 2, 3, 4]\n",
      "<class 'list'>\n",
      "(1, 2, 3, 4)\n",
      "<class 'tuple'>\n"
     ]
    }
   ],
   "source": [
    "#  44. Convert a set to a list and tuple.\n",
    "s = {1, 2, 3, 4}\n",
    "l = list(s)\n",
    "t = tuple(s)\n",
    "print(l)\n",
    "print(type(l))\n",
    "print(t)\n",
    "print(type(t))"
   ]
  },
  {
   "cell_type": "code",
   "execution_count": 73,
   "metadata": {},
   "outputs": [
    {
     "name": "stdout",
     "output_type": "stream",
     "text": [
      "4\n"
     ]
    }
   ],
   "source": [
    "# 45   Find the length of a set.\n",
    "s = {1, 2, 3, 4}\n",
    "print(len(s))"
   ]
  },
  {
   "cell_type": "code",
   "execution_count": 108,
   "metadata": {},
   "outputs": [
    {
     "name": "stdout",
     "output_type": "stream",
     "text": [
      "{1, 2, 3, 4}\n"
     ]
    }
   ],
   "source": [
    "#46  Take a list with duplicates and print unique values using set.\n",
    "l = [1, 1, 2, 2, 3, 3, 3, 3, 4, 4, 4]\n",
    "unique = set(l)\n",
    "print(unique)"
   ]
  },
  {
   "cell_type": "code",
   "execution_count": 104,
   "metadata": {},
   "outputs": [
    {
     "name": "stdout",
     "output_type": "stream",
     "text": [
      "{'6', '5', '4'}\n"
     ]
    }
   ],
   "source": [
    "#  47. Take input from user and store in a set until they type 'stop'.\n",
    "d = set()\n",
    "while True:\n",
    "    s = input(\"enter \")\n",
    "    if s == 'stop' :\n",
    "        break\n",
    "    d.add(s)\n",
    "print(d)\n",
    "\n",
    "    "
   ]
  },
  {
   "cell_type": "code",
   "execution_count": 12,
   "metadata": {},
   "outputs": [
    {
     "name": "stdout",
     "output_type": "stream",
     "text": [
      "True\n"
     ]
    }
   ],
   "source": [
    "# 48. Check if all elements in a list are unique using a set.\n",
    "s = [1, 2, 3, 4]\n",
    "s1 = set(s)\n",
    "print(len(s) == len(s1))"
   ]
  },
  {
   "cell_type": "code",
   "execution_count": 79,
   "metadata": {},
   "outputs": [
    {
     "name": "stdout",
     "output_type": "stream",
     "text": [
      "{64, 1, 4, 36, 100, 9, 16, 49, 81, 25}\n"
     ]
    }
   ],
   "source": [
    "#  49. Write a program to create a set of squares of numbers from 1 to 10.\n",
    "square = set()\n",
    "for s in range(1,11):\n",
    "    result = s ** 2\n",
    "    square.add(result)\n",
    "print(square)"
   ]
  },
  {
   "cell_type": "code",
   "execution_count": null,
   "metadata": {},
   "outputs": [
    {
     "name": "stdout",
     "output_type": "stream",
     "text": [
      "\n"
     ]
    }
   ],
   "source": [
    "#  50. Write a program to remove all vowels from a given string using set. (not completed)\n",
    "s = {\"first\", \"second\",  \"sd\"}\n",
    "vowels = {'a', 'e', 'i', 'o', 'u', 'A', 'E', 'I', 'O', 'U'}\n",
    "result = \"\"\n",
    "for char in s:\n",
    "    if char  not in s:\n",
    "        result += char\n",
    "print(result)\n",
    "    "
   ]
  }
 ],
 "metadata": {
  "kernelspec": {
   "display_name": "Python 3",
   "language": "python",
   "name": "python3"
  },
  "language_info": {
   "codemirror_mode": {
    "name": "ipython",
    "version": 3
   },
   "file_extension": ".py",
   "mimetype": "text/x-python",
   "name": "python",
   "nbconvert_exporter": "python",
   "pygments_lexer": "ipython3",
   "version": "3.12.9"
  }
 },
 "nbformat": 4,
 "nbformat_minor": 2
}
