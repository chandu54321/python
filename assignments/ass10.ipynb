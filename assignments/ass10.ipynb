{
 "cells": [
  {
   "cell_type": "code",
   "execution_count": 1,
   "metadata": {},
   "outputs": [
    {
     "name": "stdout",
     "output_type": "stream",
     "text": [
      "1\n",
      "<class 'int'>\n"
     ]
    }
   ],
   "source": [
    "#  1. What is an 'int'? Give an example.\n",
    "# int(integer) it is a number , it can be in postive and negative but not in 1.1,2.2, like that.\n",
    "i = 1\n",
    "print(i)\n",
    "print(type(i))\n"
   ]
  },
  {
   "cell_type": "code",
   "execution_count": 6,
   "metadata": {},
   "outputs": [
    {
     "name": "stdout",
     "output_type": "stream",
     "text": [
      "1.1\n",
      "<class 'float'>\n"
     ]
    }
   ],
   "source": [
    "#  2. Write an example of a 'float' value.\n",
    "# float is also a number it can be also postive and negative but it should be in 1.1, 1.3 like that.\n",
    "f = 1.1\n",
    "print(f)\n",
    "print(type(f))"
   ]
  },
  {
   "cell_type": "code",
   "execution_count": null,
   "metadata": {},
   "outputs": [],
   "source": [
    "#  3. What type is a string? Is \"123\" a string or a number?\n",
    "# string means what ever values inside the '',\"\"or\"\"\" \"\"\" that values we can call it as string.\n",
    "# \"123\", is a string not a number"
   ]
  },
  {
   "cell_type": "code",
   "execution_count": null,
   "metadata": {},
   "outputs": [],
   "source": [
    "#  4. Why do we use the 'type()' function?\n",
    "# we use type() to find the which type of that variables is like it is list,tuple,int,float like that we can found by using the type() function"
   ]
  },
  {
   "cell_type": "code",
   "execution_count": 7,
   "metadata": {},
   "outputs": [
    {
     "name": "stdout",
     "output_type": "stream",
     "text": [
      "<class 'int'>\n",
      "<class 'str'>\n",
      "<class 'float'>\n",
      "<class 'bool'>\n"
     ]
    }
   ],
   "source": [
    "#  5. Write a program to check the data type of the following:\n",
    "a = 20\n",
    "b = \"Hello\"\n",
    "c = 45.67\n",
    "d = True\n",
    "print(type(a))\n",
    "print(type(b))\n",
    "print(type(c))\n",
    "print(type(d))"
   ]
  },
  {
   "cell_type": "code",
   "execution_count": null,
   "metadata": {},
   "outputs": [
    {
     "name": "stdout",
     "output_type": "stream",
     "text": [
      "[1, 2]\n"
     ]
    }
   ],
   "source": [
    "#  6. Write a Python program that adds two numbers entered by the user.\n",
    "\n",
    "s = []\n",
    "while len(s) <2:\n",
    "    e = int(input(\"enter the number\"))\n",
    "    s.append(e)\n",
    "print(s)"
   ]
  },
  {
   "cell_type": "code",
   "execution_count": 15,
   "metadata": {},
   "outputs": [
    {
     "name": "stdout",
     "output_type": "stream",
     "text": [
      "55555\n"
     ]
    }
   ],
   "source": [
    "# 7. What will be the output?\n",
    "x = \"5\"\n",
    "y = 5\n",
    "print(x * y)"
   ]
  },
  {
   "cell_type": "code",
   "execution_count": 17,
   "metadata": {},
   "outputs": [
    {
     "name": "stdout",
     "output_type": "stream",
     "text": [
      "246\n"
     ]
    }
   ],
   "source": [
    "#  8. Write a program to convert string \"123\" to integer and multiply with 2.\n",
    "s = \"123\"\n",
    "l = int(s)\n",
    "print(l * 2)"
   ]
  },
  {
   "cell_type": "code",
   "execution_count": 28,
   "metadata": {},
   "outputs": [
    {
     "name": "stdout",
     "output_type": "stream",
     "text": [
      "[1, 2, 3, 4]\n",
      "<class 'list'>\n",
      "[9, 2, 3, 4]\n",
      "[9, 2, 3, 4, 66]\n",
      "[9, 2, 3, 4]\n",
      "------------------------------\n",
      "(1, 3, 4, 5)\n",
      "<class 'tuple'>\n"
     ]
    },
    {
     "ename": "AttributeError",
     "evalue": "'tuple' object has no attribute 'remove'",
     "output_type": "error",
     "traceback": [
      "\u001b[31m---------------------------------------------------------------------------\u001b[39m",
      "\u001b[31mAttributeError\u001b[39m                            Traceback (most recent call last)",
      "\u001b[36mCell\u001b[39m\u001b[36m \u001b[39m\u001b[32mIn[28]\u001b[39m\u001b[32m, line 23\u001b[39m\n\u001b[32m     21\u001b[39m \u001b[38;5;28mprint\u001b[39m(t)\n\u001b[32m     22\u001b[39m \u001b[38;5;28mprint\u001b[39m(\u001b[38;5;28mtype\u001b[39m(t))\n\u001b[32m---> \u001b[39m\u001b[32m23\u001b[39m \u001b[43mt\u001b[49m\u001b[43m.\u001b[49m\u001b[43mremove\u001b[49m(\u001b[32m3\u001b[39m)\n\u001b[32m     24\u001b[39m \u001b[38;5;28mprint\u001b[39m(t)\n",
      "\u001b[31mAttributeError\u001b[39m: 'tuple' object has no attribute 'remove'"
     ]
    }
   ],
   "source": [
    "#  9. What is the difference between a List and a Tuple? Give an example\n",
    "# the difference between list and tuples are:\n",
    "#   * list are mutable but tuples are immutable.\n",
    "#   * list is enclosed with [] where tuple enclosed with ().\n",
    "#   * compare to list tuples are faster.\n",
    "# list\n",
    "l = [1, 2, 3, 4]\n",
    "print(l)\n",
    "print(type(l))\n",
    "l[0]=9\n",
    "print(l)\n",
    "l.append(66)\n",
    "print(l)\n",
    "l.remove(66)\n",
    "print(l)\n",
    "print(\"-\" * 30)\n",
    "\n",
    "\n",
    "# tuple\n",
    "t = (1, 3, 4, 5)\n",
    "print(t)\n",
    "print(type(t))\n",
    "t.remove(3)\n",
    "print(t)\n"
   ]
  },
  {
   "cell_type": "code",
   "execution_count": 29,
   "metadata": {},
   "outputs": [
    {
     "name": "stdout",
     "output_type": "stream",
     "text": [
      "{1, 2, 3, 4}\n"
     ]
    }
   ],
   "source": [
    "#  10. Can sets have duplicate values? Give a valid example.\n",
    "# no , set don't allow duplicate values.\n",
    "s = {1, 2, 3, 3, 3, 4, 4 , 1}\n",
    "print(s)"
   ]
  },
  {
   "cell_type": "code",
   "execution_count": 30,
   "metadata": {},
   "outputs": [
    {
     "name": "stdout",
     "output_type": "stream",
     "text": [
      "{1: 2, 2: 3}\n",
      "<class 'dict'>\n"
     ]
    }
   ],
   "source": [
    "#  11. What is a dictionary? How is it structured?\n",
    "# dictornary is a mutable in python.\n",
    "# it enclosed with {}.\n",
    "# duplicate are not allowed in keys but allows in values.\n",
    "# in dict elements are stored in key value pairs.\n",
    "d = {1:2, 2:3}\n",
    "print(d)\n",
    "print(type(d))"
   ]
  },
  {
   "cell_type": "code",
   "execution_count": null,
   "metadata": {},
   "outputs": [],
   "source": [
    "#  12. Which Python collections are immutable?\n",
    "# in python the immutable collections are:\n",
    "#   tuples and string also inside the elements of set also immutable."
   ]
  },
  {
   "cell_type": "code",
   "execution_count": 31,
   "metadata": {},
   "outputs": [
    {
     "name": "stdout",
     "output_type": "stream",
     "text": [
      "apple\n",
      "mango\n",
      "graphs\n",
      "orange\n"
     ]
    }
   ],
   "source": [
    "#  13. Create a list of fruits and print each fruit using a for loop.\n",
    "l = [\"apple\", \"mango\", \"graphs\", \"orange\"]\n",
    "for x in l:\n",
    "    print(x)"
   ]
  },
  {
   "cell_type": "code",
   "execution_count": 33,
   "metadata": {},
   "outputs": [
    {
     "name": "stdout",
     "output_type": "stream",
     "text": [
      "[1, 2, 3, 4, 6]\n"
     ]
    }
   ],
   "source": [
    "#  14. Write a program to add a new item to a tuple. (Hint: tuples are immutable!)\n",
    "t = (1, 2, 3, 4)\n",
    "d = list(t)\n",
    "d.append(6)\n",
    "print(d)"
   ]
  },
  {
   "cell_type": "code",
   "execution_count": 36,
   "metadata": {},
   "outputs": [
    {
     "name": "stdout",
     "output_type": "stream",
     "text": [
      "{1, 2, 3, 4, 5}\n",
      "------------------------------\n",
      "[1, 2, 3, 4, 5]\n"
     ]
    }
   ],
   "source": [
    "# 15. Write a program to remove duplicates from the list:\n",
    "#    numbers = [1, 2, 2, 3, 4, 4, 5]\n",
    "\n",
    "numbers = [1, 2, 2, 3, 4, 4, 5]\n",
    "s = set(numbers)\n",
    "print(s)\n",
    "print(\"-\" * 30)\n",
    "\n",
    "d = []\n",
    "for x in numbers:\n",
    "    if x not in d:\n",
    "        d.append(x)\n",
    "print(d)"
   ]
  },
  {
   "cell_type": "code",
   "execution_count": 70,
   "metadata": {},
   "outputs": [
    {
     "name": "stdout",
     "output_type": "stream",
     "text": [
      "ramesh\n",
      "naresh\n"
     ]
    }
   ],
   "source": [
    "# 16. Create a dictionary of student names and their marks. Print only names of students who scored above 80\n",
    "d = {\"rahul\":60, \"ramesh\":86, \"naresh\":90, \"nikith\":40}\n",
    "for x, y in d.items():\n",
    "    if y > 80:\n",
    "        print(x)\n"
   ]
  },
  {
   "cell_type": "code",
   "execution_count": 52,
   "metadata": {},
   "outputs": [
    {
     "name": "stdout",
     "output_type": "stream",
     "text": [
      "{'benglore', 'chennai', 'hyderbad', 'pune', 'mumbai'}\n",
      "{'benglore', 'hyderbad', 'pune', 'mumbai'}\n"
     ]
    }
   ],
   "source": [
    "# 17. Create a set of 5 cities. Add a new city and remove one existing city\n",
    "s = {\"benglore\", \"chennai\", \"hyderbad\",\"mumbai\"}\n",
    "s.add(\"pune\")\n",
    "print(s)\n",
    "s.remove(\"chennai\")\n",
    "print(s)"
   ]
  },
  {
   "cell_type": "code",
   "execution_count": 1,
   "metadata": {},
   "outputs": [
    {
     "name": "stdout",
     "output_type": "stream",
     "text": [
      "Ravi\n",
      "Not Found\n"
     ]
    }
   ],
   "source": [
    "# 18. What will be the output?\n",
    "my_dict = {\"name\": \"Ravi\", \"age\": 23}\n",
    "print(my_dict[\"name\"])\n",
    "print(my_dict.get(\"gender\", \"Not Found\"))"
   ]
  },
  {
   "cell_type": "code",
   "execution_count": 59,
   "metadata": {},
   "outputs": [
    {
     "name": "stdout",
     "output_type": "stream",
     "text": [
      "4\n"
     ]
    }
   ],
   "source": [
    "#  19. Write a program to count the number of vowels in a given string.\n",
    "s = \"language\"\n",
    "vowels = \"aeiou\"\n",
    "d = 0\n",
    "for x in s:\n",
    "    if x in vowels:\n",
    "        d +=1\n",
    "print(d)"
   ]
  },
  {
   "cell_type": "code",
   "execution_count": null,
   "metadata": {},
   "outputs": [
    {
     "ename": "ValueError",
     "evalue": "invalid literal for int() with base 10: ''",
     "output_type": "error",
     "traceback": [
      "\u001b[31m---------------------------------------------------------------------------\u001b[39m",
      "\u001b[31mValueError\u001b[39m                                Traceback (most recent call last)",
      "\u001b[36mCell\u001b[39m\u001b[36m \u001b[39m\u001b[32mIn[71]\u001b[39m\u001b[32m, line 2\u001b[39m\n\u001b[32m      1\u001b[39m \u001b[38;5;66;03m#  20. Write a program to take 5 student names and marks, store them in a dictionary, and print the topper's name.\u001b[39;00m\n\u001b[32m----> \u001b[39m\u001b[32m2\u001b[39m ts = \u001b[38;5;28;43mint\u001b[39;49m\u001b[43m(\u001b[49m\u001b[38;5;28;43minput\u001b[39;49m\u001b[43m(\u001b[49m\u001b[33;43m\"\u001b[39;49m\u001b[33;43menter the number\u001b[39;49m\u001b[33;43m\"\u001b[39;49m\u001b[43m)\u001b[49m\u001b[43m)\u001b[49m\n\u001b[32m      3\u001b[39m d = {}\n\u001b[32m      4\u001b[39m \u001b[38;5;28;01mfor\u001b[39;00m x \u001b[38;5;129;01min\u001b[39;00m \u001b[38;5;28mrange\u001b[39m(ts):\n",
      "\u001b[31mValueError\u001b[39m: invalid literal for int() with base 10: ''"
     ]
    }
   ],
   "source": [
    "#  20. Write a program to take 5 student names and marks, store them in a dictionary, and print the topper's name.\n",
    "ts = int(input(\"enter the number\"))\n",
    "d = {}\n",
    "for x in range(ts):\n",
    "    student = str(input(\"enter the student name\"))\n",
    "    marks = int(input(\"enter the marks\"))\n",
    "    d[student] = marks\n",
    "print(d)\n",
    "\n",
    "print(d(max))  # not complited this one"
   ]
  }
 ],
 "metadata": {
  "kernelspec": {
   "display_name": "Python 3",
   "language": "python",
   "name": "python3"
  },
  "language_info": {
   "codemirror_mode": {
    "name": "ipython",
    "version": 3
   },
   "file_extension": ".py",
   "mimetype": "text/x-python",
   "name": "python",
   "nbconvert_exporter": "python",
   "pygments_lexer": "ipython3",
   "version": "3.12.9"
  }
 },
 "nbformat": 4,
 "nbformat_minor": 2
}
