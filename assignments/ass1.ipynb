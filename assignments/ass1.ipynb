{
 "cells": [
  {
   "cell_type": "code",
   "execution_count": 1,
   "metadata": {},
   "outputs": [
    {
     "name": "stdout",
     "output_type": "stream",
     "text": [
      "10\n"
     ]
    }
   ],
   "source": [
    "#1\n",
    "x = [ 1, 2, 3, 4]\n",
    "numbers = sum(x)\n",
    "print(numbers)"
   ]
  },
  {
   "cell_type": "code",
   "execution_count": 2,
   "metadata": {},
   "outputs": [
    {
     "name": "stdout",
     "output_type": "stream",
     "text": [
      "mximum nubmer  10, minumum number 7\n"
     ]
    }
   ],
   "source": [
    "#2\n",
    "first = [ 7, 8, 9,  10]\n",
    "number = max(first)\n",
    "number2 = min(first)\n",
    "print(f\"mximum nubmer  {number}, minumum number {number2}\")"
   ]
  },
  {
   "cell_type": "code",
   "execution_count": 3,
   "metadata": {},
   "outputs": [
    {
     "name": "stdout",
     "output_type": "stream",
     "text": [
      "1\n"
     ]
    }
   ],
   "source": [
    "#3\n",
    "first = [ 8, 9, 4, 2]\n",
    "count_numbers= first.count(8)\n",
    "print(count_numbers)"
   ]
  },
  {
   "cell_type": "code",
   "execution_count": 4,
   "metadata": {},
   "outputs": [
    {
     "name": "stdout",
     "output_type": "stream",
     "text": [
      "[1, 2, 3, 4, 5, 9]\n"
     ]
    }
   ],
   "source": [
    "#4\n",
    "myc_list = [1, 2, 3, 9, 4, 5, 5]\n",
    "unique_list = list(set(myc_list))\n",
    "print(unique_list)\n",
    "\n"
   ]
  },
  {
   "cell_type": "code",
   "execution_count": null,
   "metadata": {},
   "outputs": [
    {
     "name": "stdout",
     "output_type": "stream",
     "text": [
      "<list_reverseiterator object at 0x0000024F4B09E560>\n"
     ]
    }
   ],
   "source": [
    "#5\n",
    "lis = [ 1, 8, 5, 3]\n",
    "first = list(reversed(lis))\n",
    "print(first)"
   ]
  },
  {
   "cell_type": "code",
   "execution_count": 6,
   "metadata": {},
   "outputs": [
    {
     "name": "stdout",
     "output_type": "stream",
     "text": [
      "4\n"
     ]
    }
   ],
   "source": [
    "#6\n",
    "list = [1, 2, 3, 4, 5]\n",
    "max_val = max(list)\n",
    "list.remove(max_val)\n",
    "second_largest = max(list)\n",
    "print(second_largest)"
   ]
  },
  {
   "cell_type": "code",
   "execution_count": 7,
   "metadata": {},
   "outputs": [
    {
     "name": "stdout",
     "output_type": "stream",
     "text": [
      "[1, 2, 3, 4, 5, 6, 7, 8]\n"
     ]
    }
   ],
   "source": [
    "#7\n",
    "first = [ 1, 4, 2, 3 ]\n",
    "second = [ 5, 7, 6, 8]\n",
    "combine = first+second\n",
    "combine.sort()\n",
    "\n",
    "print(combine)"
   ]
  },
  {
   "cell_type": "code",
   "execution_count": 8,
   "metadata": {},
   "outputs": [
    {
     "name": "stdout",
     "output_type": "stream",
     "text": [
      "[8, 7, 6, 5, 4, 3, 2, 1]\n"
     ]
    }
   ],
   "source": [
    "#8\n",
    "first = [ 1, 4, 2, 3 ]\n",
    "second = [ 5, 7, 6, 8]\n",
    "combine = first+second\n",
    "combine.sort(reverse=True)\n",
    "print(combine)"
   ]
  },
  {
   "cell_type": "code",
   "execution_count": 1,
   "metadata": {},
   "outputs": [
    {
     "name": "stdout",
     "output_type": "stream",
     "text": [
      "[5, 4, 3, 2, 1]\n"
     ]
    }
   ],
   "source": [
    "#9\n",
    "ls = [1, 2, 3, 4, 5]\n",
    "after_reversed = list(reversed(ls))\n",
    "print(after_reversed)"
   ]
  },
  {
   "cell_type": "code",
   "execution_count": 10,
   "metadata": {},
   "outputs": [
    {
     "name": "stdout",
     "output_type": "stream",
     "text": [
      "{4, 5}\n"
     ]
    }
   ],
   "source": [
    "#10 changes \n",
    "list1 = [1, 2, 3, 4, 5]\n",
    "list2 = [4, 5, 6, 7, 8]\n",
    "set1 = set(list1)\n",
    "set2 = set(list2)\n",
    "intersection = set1 & set2\n",
    "print(intersection)"
   ]
  },
  {
   "cell_type": "code",
   "execution_count": 11,
   "metadata": {},
   "outputs": [
    {
     "name": "stdout",
     "output_type": "stream",
     "text": [
      "[1, 2]\n",
      "[4, 5]\n"
     ]
    }
   ],
   "source": [
    "#11\n",
    "list = [1, 2, 3, 4, 5, 6]\n",
    "print(list[0:2])\n",
    "print(list[3:5])"
   ]
  },
  {
   "cell_type": "code",
   "execution_count": 2,
   "metadata": {},
   "outputs": [
    {
     "name": "stdout",
     "output_type": "stream",
     "text": [
      "[1, 2, 3, 4, 5, 6]\n"
     ]
    }
   ],
   "source": [
    "#12\n",
    "nested_list = [[1, 2], [3, 4], [5, 6]]\n",
    "flattened_list = [x for sublist in nested_list for x in sublist]\n",
    "print(flattened_list) \n"
   ]
  },
  {
   "cell_type": "code",
   "execution_count": null,
   "metadata": {},
   "outputs": [],
   "source": [
    "#13\n",
    "listA = [45, 20, 11, 50, 17, 45, 50,13, 45]\n",
    "res = max(set(listA), key = listA.count)\n",
    "print(res)"
   ]
  },
  {
   "cell_type": "code",
   "execution_count": 10,
   "metadata": {},
   "outputs": [
    {
     "name": "stdout",
     "output_type": "stream",
     "text": [
      "[1, 3, 6, 10, 15]\n"
     ]
    }
   ],
   "source": [
    "#14\n",
    "firs = [ 1, 2, 3, 4, 5]\n",
    "sum = []\n",
    "total = 0\n",
    "for x in firs:\n",
    "    total += x\n",
    "    sum.append(total)\n",
    "print(sum)"
   ]
  },
  {
   "cell_type": "code",
   "execution_count": 15,
   "metadata": {},
   "outputs": [],
   "source": [
    "#15"
   ]
  },
  {
   "cell_type": "code",
   "execution_count": 16,
   "metadata": {},
   "outputs": [
    {
     "name": "stdout",
     "output_type": "stream",
     "text": [
      "The lists have common elements: {4, 5}\n"
     ]
    }
   ],
   "source": [
    "#16\n",
    "list1 = [1, 2, 3, 4, 5]\n",
    "list2 = [4, 5, 6, 7, 8]\n",
    "\n",
    "set1 = set(list1)\n",
    "set2 = set(list2)\n",
    "\n",
    "common_elements = set1 & set2\n",
    "print(f\"The lists have common elements: {common_elements}\")\n",
    "\n"
   ]
  },
  {
   "cell_type": "code",
   "execution_count": 17,
   "metadata": {},
   "outputs": [
    {
     "name": "stdout",
     "output_type": "stream",
     "text": [
      "[1, 2, 3, 4]\n"
     ]
    }
   ],
   "source": [
    "#17\n",
    "list = [1, 2, 3, 4, 5]\n",
    "list.remove(5)\n",
    "print(list)"
   ]
  },
  {
   "cell_type": "code",
   "execution_count": 12,
   "metadata": {},
   "outputs": [
    {
     "name": "stdout",
     "output_type": "stream",
     "text": [
      "[(1, 5), (3, 2), (4, 8), (2, 1), (5, 6)]\n"
     ]
    }
   ],
   "source": [
    "#18\n",
    "tuples_list = [(1, 5), (3, 2), (4, 8), (2, 1), (5, 6)]\n",
    "tuples = sorted(tuples_list)\n",
    "print(tuples_list)"
   ]
  },
  {
   "cell_type": "code",
   "execution_count": null,
   "metadata": {},
   "outputs": [],
   "source": [
    "#19"
   ]
  },
  {
   "cell_type": "code",
   "execution_count": 7,
   "metadata": {},
   "outputs": [
    {
     "name": "stdout",
     "output_type": "stream",
     "text": [
      "120\n"
     ]
    }
   ],
   "source": [
    "#20\n",
    "numbers = [1, 2, 3, 4, 5]\n",
    "product = 1\n",
    "for num in numbers:\n",
    "    product *= num\n",
    "print(product)"
   ]
  }
 ],
 "metadata": {
  "kernelspec": {
   "display_name": "Python 3",
   "language": "python",
   "name": "python3"
  },
  "language_info": {
   "codemirror_mode": {
    "name": "ipython",
    "version": 3
   },
   "file_extension": ".py",
   "mimetype": "text/x-python",
   "name": "python",
   "nbconvert_exporter": "python",
   "pygments_lexer": "ipython3",
   "version": "3.12.9"
  }
 },
 "nbformat": 4,
 "nbformat_minor": 2
}
