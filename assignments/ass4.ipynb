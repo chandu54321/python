{
 "cells": [
  {
   "cell_type": "code",
   "execution_count": 1,
   "metadata": {},
   "outputs": [
    {
     "ename": "IndentationError",
     "evalue": "unexpected indent (2877550784.py, line 3)",
     "output_type": "error",
     "traceback": [
      "  \u001b[36mCell\u001b[39m\u001b[36m \u001b[39m\u001b[32mIn[1]\u001b[39m\u001b[32m, line 3\u001b[39m\n\u001b[31m    \u001b[39m\u001b[31mtuple is immutable\u001b[39m\n    ^\n\u001b[31mIndentationError\u001b[39m\u001b[31m:\u001b[39m unexpected indent\n"
     ]
    }
   ],
   "source": [
    "#1\n",
    "# tuple\n",
    " tuple is immutable\n",
    " definde with ()\n",
    " faster uses the less memory.\n",
    "# list\n",
    " #list is mutable \n",
    " defined with []\n",
    " it slower compared to tuple.\n",
    "  "
   ]
  },
  {
   "cell_type": "code",
   "execution_count": null,
   "metadata": {},
   "outputs": [
    {
     "name": "stdout",
     "output_type": "stream",
     "text": [
      "<class 'tuple'>\n"
     ]
    }
   ],
   "source": [
    "#2\n",
    "list = ()\n",
    "print(type(list))"
   ]
  },
  {
   "cell_type": "code",
   "execution_count": null,
   "metadata": {},
   "outputs": [
    {
     "name": "stdout",
     "output_type": "stream",
     "text": [
      "(1, 3, 'fri', True, 2.2)\n"
     ]
    }
   ],
   "source": [
    "#3\n",
    "f = (1, 3, 'fri', True, 2.2 )\n",
    "print(f)"
   ]
  },
  {
   "cell_type": "code",
   "execution_count": null,
   "metadata": {},
   "outputs": [
    {
     "name": "stdout",
     "output_type": "stream",
     "text": [
      "4\n"
     ]
    }
   ],
   "source": [
    "#4\n",
    "f = (2, 3, 4, 7)\n",
    "print(f[2])"
   ]
  },
  {
   "cell_type": "markdown",
   "metadata": {},
   "source": [
    "5\n",
    "if we try modifying the tuple . we will get a error."
   ]
  },
  {
   "cell_type": "code",
   "execution_count": null,
   "metadata": {},
   "outputs": [
    {
     "name": "stdout",
     "output_type": "stream",
     "text": [
      "(1, 2, 3, 4, 5)\n",
      "<class 'tuple'>\n"
     ]
    }
   ],
   "source": [
    "#6\n",
    "f = [1, 2, 3, 4, 5]\n",
    "s = tuple(f)\n",
    "print(s)\n",
    "print(type(s))"
   ]
  },
  {
   "cell_type": "code",
   "execution_count": null,
   "metadata": {},
   "outputs": [
    {
     "name": "stdout",
     "output_type": "stream",
     "text": [
      "(1, 2, 3, 4, 5, 3, 4, 5, 6)\n"
     ]
    }
   ],
   "source": [
    "#7\n",
    "f = (1, 2, 3, 4, 5)\n",
    "s = (3, 4, 5, 6)\n",
    "n = f + s\n",
    "print(n)"
   ]
  },
  {
   "cell_type": "code",
   "execution_count": null,
   "metadata": {},
   "outputs": [
    {
     "name": "stdout",
     "output_type": "stream",
     "text": [
      "5\n"
     ]
    }
   ],
   "source": [
    "#8\n",
    "f = (1, 3, 4, 4, 5)\n",
    "print(len(f))"
   ]
  },
  {
   "cell_type": "code",
   "execution_count": null,
   "metadata": {},
   "outputs": [
    {
     "name": "stdout",
     "output_type": "stream",
     "text": [
      "2\n",
      "4\n",
      "5\n",
      "5\n"
     ]
    }
   ],
   "source": [
    "#9\n",
    "f = ( 2, 4, 5, 5)\n",
    "l1,l2,l3,l4 = f\n",
    "print(l1)\n",
    "print(l2)\n",
    "print(l3)\n",
    "print(l4)\n"
   ]
  },
  {
   "cell_type": "code",
   "execution_count": null,
   "metadata": {},
   "outputs": [
    {
     "name": "stdout",
     "output_type": "stream",
     "text": [
      "True\n"
     ]
    }
   ],
   "source": [
    "#10\n",
    "t = ( 1, 3, 4, 5, 7)\n",
    "print( 1 in t)"
   ]
  },
  {
   "cell_type": "code",
   "execution_count": 6,
   "metadata": {},
   "outputs": [
    {
     "name": "stdout",
     "output_type": "stream",
     "text": [
      "3\n"
     ]
    }
   ],
   "source": [
    "#11\n",
    "f = (2, 3, 4, 4, 4, 5, 5, 6)\n",
    "print(f.count(4))"
   ]
  },
  {
   "cell_type": "code",
   "execution_count": null,
   "metadata": {},
   "outputs": [
    {
     "name": "stdout",
     "output_type": "stream",
     "text": [
      "2\n"
     ]
    }
   ],
   "source": [
    "#12\n",
    "t = (1, 3, 4, 5)\n",
    "f = t.index(4)\n",
    "print(f)"
   ]
  },
  {
   "cell_type": "code",
   "execution_count": null,
   "metadata": {},
   "outputs": [
    {
     "name": "stdout",
     "output_type": "stream",
     "text": [
      "(1, 2, 3, 4, 5, 6, 7, 8, 9)\n"
     ]
    }
   ],
   "source": [
    "#13\n",
    "f = tuple(range(1,10))\n",
    "print(f)"
   ]
  },
  {
   "cell_type": "code",
   "execution_count": 8,
   "metadata": {},
   "outputs": [
    {
     "name": "stdout",
     "output_type": "stream",
     "text": [
      "(2, 4, 6, 6)\n",
      "(2, 6, 7)\n"
     ]
    }
   ],
   "source": [
    "#14\n",
    "# with the help of slicing we can get the range of indexs. in tuple we can create new tuple by using slicing.\n",
    "# we can also do step slicing\n",
    "e = ( 2, 4, 6, 6, 7, 7)\n",
    "print(e[0:4])\n",
    "print(e[0:6:2])"
   ]
  },
  {
   "cell_type": "code",
   "execution_count": null,
   "metadata": {},
   "outputs": [
    {
     "name": "stdout",
     "output_type": "stream",
     "text": [
      "[3, 6, 6, 4]\n",
      "(3, 5, 5, [3, 6, 6, 4], 4)\n"
     ]
    }
   ],
   "source": [
    "#15\n",
    "# yes we can store a mutable objects like list in tuble and also we can only modify list only we cannot modify the tuple.\n",
    "# example\n",
    "first = (3, 5, 5, [3, 6, 6], 4)\n",
    "first[3].append(4)\n",
    "print(first[3])\n",
    "print(first)\n",
    "         \n"
   ]
  },
  {
   "cell_type": "code",
   "execution_count": null,
   "metadata": {},
   "outputs": [
    {
     "name": "stdout",
     "output_type": "stream",
     "text": [
      "maximum values is  99\n",
      "maximum values is  1\n"
     ]
    }
   ],
   "source": [
    "#16\n",
    "first = (3, 5, 99, 1)\n",
    "print(\"maximum values is \", max(first))\n",
    "print(\"maximum values is \", min(first))"
   ]
  },
  {
   "cell_type": "code",
   "execution_count": null,
   "metadata": {},
   "outputs": [
    {
     "name": "stdout",
     "output_type": "stream",
     "text": [
      "26\n",
      "5.2\n"
     ]
    }
   ],
   "source": [
    "#17\n",
    "first = 0\n",
    "s = (2, 4, 5, 7, 8)\n",
    "for num in s:\n",
    "    first += num\n",
    "    average = first / len(s)\n",
    "print(first)\n",
    "print(average)"
   ]
  },
  {
   "cell_type": "code",
   "execution_count": null,
   "metadata": {},
   "outputs": [
    {
     "name": "stdout",
     "output_type": "stream",
     "text": [
      "{2, 3, 5, 6, 7}\n"
     ]
    }
   ],
   "source": [
    "#18\n",
    "f = (2, 3, 3, 2, 5, 5, 6, 7)\n",
    "n = set(f)\n",
    "print(n)"
   ]
  },
  {
   "cell_type": "code",
   "execution_count": null,
   "metadata": {},
   "outputs": [
    {
     "name": "stdout",
     "output_type": "stream",
     "text": [
      "[1, 2, 3, 4, 5, 6]\n"
     ]
    }
   ],
   "source": [
    "#18\n",
    "lsd = ( 1, 1, 2, 3, 3, 4, 5, 6, 6)\n",
    "first = list(lsd)\n",
    "l = []\n",
    "for x in first:\n",
    "    if x not in l:\n",
    "        l.append(x)\n",
    "print(l)   "
   ]
  },
  {
   "cell_type": "code",
   "execution_count": 5,
   "metadata": {},
   "outputs": [
    {
     "name": "stdout",
     "output_type": "stream",
     "text": [
      "(5, 5, 4, 3, 1)\n"
     ]
    }
   ],
   "source": [
    "#19\n",
    "f = ( 1, 3, 4, 5, 5)\n",
    "s = tuple(reversed(f))\n",
    "print(s)"
   ]
  },
  {
   "cell_type": "code",
   "execution_count": null,
   "metadata": {},
   "outputs": [],
   "source": [
    "#20  pending\n",
    "first = ('this is python program')\n",
    "\n"
   ]
  }
 ],
 "metadata": {
  "kernelspec": {
   "display_name": "Python 3",
   "language": "python",
   "name": "python3"
  },
  "language_info": {
   "codemirror_mode": {
    "name": "ipython",
    "version": 3
   },
   "file_extension": ".py",
   "mimetype": "text/x-python",
   "name": "python",
   "nbconvert_exporter": "python",
   "pygments_lexer": "ipython3",
   "version": "3.12.9"
  }
 },
 "nbformat": 4,
 "nbformat_minor": 2
}
