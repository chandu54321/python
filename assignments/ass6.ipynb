{
 "cells": [
  {
   "cell_type": "markdown",
   "metadata": {},
   "source": [
    "# string"
   ]
  },
  {
   "cell_type": "code",
   "execution_count": null,
   "metadata": {},
   "outputs": [
    {
     "name": "stdout",
     "output_type": "stream",
     "text": [
      "22\n"
     ]
    }
   ],
   "source": [
    "#1\n",
    "s = \"this is my first pytho\"\n",
    "print(len(s))"
   ]
  },
  {
   "cell_type": "code",
   "execution_count": 5,
   "metadata": {},
   "outputs": [
    {
     "name": "stdout",
     "output_type": "stream",
     "text": [
      "nohtyp\n"
     ]
    }
   ],
   "source": [
    "#2\n",
    "g = \"python\"\n",
    "f = \"\".join(reversed(g))\n",
    "print(f)"
   ]
  },
  {
   "cell_type": "code",
   "execution_count": 2,
   "metadata": {},
   "outputs": [
    {
     "name": "stdout",
     "output_type": "stream",
     "text": [
      "fif this is a pallindrome\n"
     ]
    }
   ],
   "source": [
    "#3\n",
    "f = str(input(\"enter the string \"))\n",
    "while f == f[::-1]:\n",
    "    print(f\"{f} this is a pallindrome\")\n",
    "    break\n",
    "else:\n",
    "    print(f\"{f} this is not a pallindrome\")"
   ]
  },
  {
   "cell_type": "code",
   "execution_count": 20,
   "metadata": {},
   "outputs": [
    {
     "name": "stdout",
     "output_type": "stream",
     "text": [
      "3 1\n"
     ]
    }
   ],
   "source": [
    "#4\n",
    "text = \"python is python and python \"\n",
    "print(text.count(\"python\"), text.count(\"is\"))"
   ]
  },
  {
   "cell_type": "code",
   "execution_count": 11,
   "metadata": {},
   "outputs": [
    {
     "name": "stdout",
     "output_type": "stream",
     "text": [
      "     chandu\n",
      "chandu\n"
     ]
    }
   ],
   "source": [
    "#5\n",
    "text = \" $ # chandu\"\n",
    "str_rep =text.replace(\"$\", \" \").replace(\"#\", \" \")\n",
    "print(str_rep)\n",
    "print(str_rep.strip())"
   ]
  },
  {
   "cell_type": "code",
   "execution_count": null,
   "metadata": {},
   "outputs": [
    {
     "name": "stdout",
     "output_type": "stream",
     "text": [
      "Python String\n"
     ]
    }
   ],
   "source": [
    "#6 \n",
    "s = \"python string\"\n",
    "print(s.title())"
   ]
  },
  {
   "cell_type": "code",
   "execution_count": null,
   "metadata": {},
   "outputs": [
    {
     "name": "stdout",
     "output_type": "stream",
     "text": [
      "5\n"
     ]
    },
    {
     "ename": "TypeError",
     "evalue": "'int' object is not iterable",
     "output_type": "error",
     "traceback": [
      "\u001b[31m---------------------------------------------------------------------------\u001b[39m",
      "\u001b[31mTypeError\u001b[39m                                 Traceback (most recent call last)",
      "\u001b[36mCell\u001b[39m\u001b[36m \u001b[39m\u001b[32mIn[19]\u001b[39m\u001b[32m, line 6\u001b[39m\n\u001b[32m      4\u001b[39m s1 = s.split()\n\u001b[32m      5\u001b[39m \u001b[38;5;28mprint\u001b[39m(\u001b[38;5;28mlen\u001b[39m(s1))\n\u001b[32m----> \u001b[39m\u001b[32m6\u001b[39m max_s1 = \u001b[38;5;28;43mmax\u001b[39;49m\u001b[43m(\u001b[49m\u001b[43ms2\u001b[49m\u001b[43m)\u001b[49m\n\u001b[32m      7\u001b[39m \u001b[38;5;28mprint\u001b[39m(max_s1)\n",
      "\u001b[31mTypeError\u001b[39m: 'int' object is not iterable"
     ]
    }
   ],
   "source": [
    "#7 find the longest word in a given string\n",
    "s = \"python is the first language\"\n",
    "\n",
    "s1 = s.split()\n",
    "max_s1 = max(s2)\n",
    "print(max_s1)"
   ]
  },
  {
   "cell_type": "markdown",
   "metadata": {},
   "source": [
    "# not done questions are\n",
    "7. find the longest word in a given string?\n"
   ]
  },
  {
   "cell_type": "markdown",
   "metadata": {},
   "source": [
    "# tuples"
   ]
  },
  {
   "cell_type": "code",
   "execution_count": 16,
   "metadata": {},
   "outputs": [
    {
     "name": "stdout",
     "output_type": "stream",
     "text": [
      "4\n"
     ]
    }
   ],
   "source": [
    "#8 \n",
    "t  = (1, 4, 5, 6)\n",
    "print(len(t))"
   ]
  },
  {
   "cell_type": "code",
   "execution_count": 17,
   "metadata": {},
   "outputs": [
    {
     "name": "stdout",
     "output_type": "stream",
     "text": [
      "[3, 4, 5, 6, 7]\n"
     ]
    }
   ],
   "source": [
    "#9\n",
    "t = ( 3, 4, 5, 6, 7)\n",
    "s = list(t)\n",
    "print(s)"
   ]
  },
  {
   "cell_type": "code",
   "execution_count": 18,
   "metadata": {},
   "outputs": [
    {
     "name": "stdout",
     "output_type": "stream",
     "text": [
      "[1, 2, 3, 4, 5, 6]\n"
     ]
    }
   ],
   "source": [
    "#10\n",
    "t1 = (1, 2, 3, 4, 5)\n",
    "t2 = list(t1)\n",
    "t2.append(6)\n",
    "print(t2)"
   ]
  },
  {
   "cell_type": "code",
   "execution_count": 19,
   "metadata": {},
   "outputs": [
    {
     "name": "stdout",
     "output_type": "stream",
     "text": [
      "maximum valuei is  88\n",
      "minimum vale is  0\n"
     ]
    }
   ],
   "source": [
    "#11\n",
    "t = (1, 3, 5, 88, 0)\n",
    "print(\"maximum valuei is \", max(t))\n",
    "print(\"minimum vale is \", min(t))"
   ]
  },
  {
   "cell_type": "code",
   "execution_count": 17,
   "metadata": {},
   "outputs": [
    {
     "name": "stdout",
     "output_type": "stream",
     "text": [
      "1\n",
      "1.1\n",
      "fir\n",
      "False\n"
     ]
    }
   ],
   "source": [
    "#12\n",
    "s = (1, 1.1, \"fir\", False)\n",
    "t1,t2,t3,t4 = s\n",
    "print(t1)\n",
    "print(t2)\n",
    "print(t3)\n",
    "print(t4)\n",
    "\n"
   ]
  },
  {
   "cell_type": "code",
   "execution_count": 32,
   "metadata": {},
   "outputs": [
    {
     "name": "stdout",
     "output_type": "stream",
     "text": [
      "True\n"
     ]
    }
   ],
   "source": [
    "#13\n",
    "f = (1, 3, 5, 5)\n",
    "print(1 in f)"
   ]
  },
  {
   "cell_type": "code",
   "execution_count": 39,
   "metadata": {},
   "outputs": [
    {
     "name": "stdout",
     "output_type": "stream",
     "text": [
      "[1, 1, 2, 2, 3, 4, 4, 4, 5, 9]\n",
      "<class 'list'>\n"
     ]
    }
   ],
   "source": [
    "#14\n",
    "f = (1, 2, 3, 4, 5)\n",
    "g = (9, 4, 1, 2, 4)\n",
    "h = f + g\n",
    "final = sorted(h)\n",
    "print(final)\n",
    "print(type(final))"
   ]
  },
  {
   "cell_type": "markdown",
   "metadata": {},
   "source": [
    "# floats"
   ]
  },
  {
   "cell_type": "code",
   "execution_count": 1,
   "metadata": {},
   "outputs": [
    {
     "name": "stdout",
     "output_type": "stream",
     "text": [
      "1.22\n"
     ]
    }
   ],
   "source": [
    "#15\n",
    "f = 1.22222\n",
    "print(format(f, \".2f\"))"
   ]
  },
  {
   "cell_type": "code",
   "execution_count": 2,
   "metadata": {},
   "outputs": [
    {
     "name": "stdout",
     "output_type": "stream",
     "text": [
      "1\n",
      "<class 'int'>\n"
     ]
    }
   ],
   "source": [
    "#16\n",
    "f = 1.23\n",
    "s =int(f)\n",
    "print(s)\n",
    "print(type(s))"
   ]
  },
  {
   "cell_type": "code",
   "execution_count": 9,
   "metadata": {},
   "outputs": [
    {
     "name": "stdout",
     "output_type": "stream",
     "text": [
      "this sum of L:  10.0\n",
      "this average of l : 3.3333333333333335\n"
     ]
    }
   ],
   "source": [
    "#17\n",
    "l = [1.2, 4.4, 4.4]\n",
    "s = len(l)\n",
    "sum_l = sum(l)\n",
    "\n",
    "print(\"this sum of L: \", sum_l)\n",
    "print(\"this average of l :\", sum_l / s)"
   ]
  },
  {
   "cell_type": "code",
   "execution_count": null,
   "metadata": {},
   "outputs": [
    {
     "name": "stdout",
     "output_type": "stream",
     "text": [
      "0.45999999999999996\n"
     ]
    }
   ],
   "source": [
    "#18 convert a float into fraction\n",
    "s = 2.3\n",
    "f = s / 5\n",
    "print(f)"
   ]
  },
  {
   "cell_type": "code",
   "execution_count": 5,
   "metadata": {},
   "outputs": [
    {
     "name": "stdout",
     "output_type": "stream",
     "text": [
      "2.0\n",
      "<class 'float'>\n"
     ]
    }
   ],
   "source": [
    "#19 convert a float into int without using the int() function\n",
    "f = eval(input(\"entere the number\"))\n",
    "s = f // 1\n",
    "print(s)\n",
    "print(type(s))"
   ]
  },
  {
   "cell_type": "code",
   "execution_count": 11,
   "metadata": {},
   "outputs": [
    {
     "name": "stdout",
     "output_type": "stream",
     "text": [
      "5.5\n",
      "1.2\n"
     ]
    }
   ],
   "source": [
    "#20\n",
    "list_of = [1.2, 3.3, 3.4, 5.5, 5.5]\n",
    "print(max(list_of))\n",
    "print(min(list_of))"
   ]
  },
  {
   "cell_type": "markdown",
   "metadata": {},
   "source": [
    "# not done questions\n",
    "19. convert a float into int without using the int() function ?\n",
    "18. convert a float into fraction?"
   ]
  }
 ],
 "metadata": {
  "kernelspec": {
   "display_name": "Python 3",
   "language": "python",
   "name": "python3"
  },
  "language_info": {
   "codemirror_mode": {
    "name": "ipython",
    "version": 3
   },
   "file_extension": ".py",
   "mimetype": "text/x-python",
   "name": "python",
   "nbconvert_exporter": "python",
   "pygments_lexer": "ipython3",
   "version": "3.12.9"
  }
 },
 "nbformat": 4,
 "nbformat_minor": 2
}
