{
 "cells": [
  {
   "cell_type": "code",
   "execution_count": 2,
   "metadata": {},
   "outputs": [
    {
     "name": "stdout",
     "output_type": "stream",
     "text": [
      "not a pallindrome\n"
     ]
    }
   ],
   "source": [
    "#  1. Write a Python function to check whether a string is a palindrome or not.\n",
    "s = input(\"entr the string\")\n",
    "if s == s[::-1]:\n",
    "    print(\"this is a pallindrome\")\n",
    "else:\n",
    "    print(\"not a pallindrome\")"
   ]
  },
  {
   "cell_type": "code",
   "execution_count": 21,
   "metadata": {},
   "outputs": [
    {
     "data": {
      "text/plain": [
       "-1"
      ]
     },
     "execution_count": 21,
     "metadata": {},
     "output_type": "execute_result"
    }
   ],
   "source": [
    "#  3. Write a Python program to implement a basic calculator (add, subtract, multiply, divide) using functions.\n",
    "def asmd(a,b):\n",
    "    s = input(\"enter the values\")\n",
    "    if s == \"+\":\n",
    "        add = a + b\n",
    "        return add\n",
    "    elif s == \"-\":\n",
    "        s = a - b\n",
    "        return s\n",
    "    elif s == \"*\":\n",
    "        m = a * b\n",
    "        return m\n",
    "    else:\n",
    "        d = a / b\n",
    "        return d\n",
    "a = int(input(\"enter\"))\n",
    "b = int (input(\"en\"))\n",
    "asmd(a,b)\n"
   ]
  },
  {
   "cell_type": "code",
   "execution_count": 29,
   "metadata": {},
   "outputs": [
    {
     "name": "stdout",
     "output_type": "stream",
     "text": [
      "{'t': 2, 'h': 1, 'i': 2, 's': 2, 'p': 2, 'y': 1, 'o': 2, 'n': 1, 'r': 2, 'g': 1, 'a': 1, 'm': 1}\n"
     ]
    }
   ],
   "source": [
    "#  4. Write a Python program to count the frequency of words in a given sentence.\n",
    "s = \"thisispytonprogram\"\n",
    "d = {}\n",
    "for x in s:\n",
    "    if x in d:\n",
    "        d[x] += 1\n",
    "    else:\n",
    "        d[x] = 1\n",
    "print(d)"
   ]
  },
  {
   "cell_type": "code",
   "execution_count": null,
   "metadata": {},
   "outputs": [],
   "source": [
    "#  5. Create a class `BankAccount` with methods to deposit, withdraw, and display balance.\n"
   ]
  },
  {
   "cell_type": "code",
   "execution_count": 35,
   "metadata": {},
   "outputs": [
    {
     "name": "stdout",
     "output_type": "stream",
     "text": [
      "[1, 2, 3, 4, 5]\n"
     ]
    }
   ],
   "source": [
    "#  6. Write a program to sort a list of dictionaries by a key (e.g., age).\n",
    "d = {1:2, 2:3, 3:4, 5:6, 4:8}\n",
    "s = d.keys()\n",
    "f = sorted(s)\n",
    "print(f)"
   ]
  },
  {
   "cell_type": "code",
   "execution_count": 14,
   "metadata": {},
   "outputs": [
    {
     "name": "stdout",
     "output_type": "stream",
     "text": [
      "this is python program\n",
      "4\n",
      "22\n",
      "22\n",
      "3\n"
     ]
    }
   ],
   "source": [
    "#  7. Implement a program that reads a text file and prints the number of lines, words, and characters.\n",
    "d = \"this is python program\"\n",
    "count = 0\n",
    "for x in d:\n",
    "    count += 1\n",
    "s = d.split()\n",
    "print(d)\n",
    "print(len(s))\n",
    "print(len(d))\n",
    "print(count)\n",
    "\n",
    "\n",
    "# program for how to check the lines\n",
    "d  = \"\"\"this is first, this is second , this is third\"\"\"\n",
    "line = d.split(',')\n",
    "print(len(line))"
   ]
  },
  {
   "cell_type": "code",
   "execution_count": null,
   "metadata": {},
   "outputs": [],
   "source": [
    "# 8"
   ]
  },
  {
   "cell_type": "code",
   "execution_count": 53,
   "metadata": {},
   "outputs": [
    {
     "data": {
      "text/plain": [
       "[1, 2, 3, 4, 5]"
      ]
     },
     "execution_count": 53,
     "metadata": {},
     "output_type": "execute_result"
    }
   ],
   "source": [
    "#  9. Create a function that takes a list and returns a new list with unique elements (removing duplicates).\n",
    "\n",
    "def new_list(a):\n",
    "    s = []\n",
    "    for x in a:\n",
    "        if x not in s:\n",
    "            s.append(x)\n",
    "    return s\n",
    "new_list([1,2,2,3,3,3,4,4,5])"
   ]
  },
  {
   "cell_type": "code",
   "execution_count": 52,
   "metadata": {},
   "outputs": [
    {
     "name": "stdout",
     "output_type": "stream",
     "text": [
      "{'a': 64546451355, 'b': 6544654646, 'c': 44643465464, 'd': 446446464}\n",
      "6544654646\n",
      "c is remove\n",
      "{'a': 64546451355, 'b': 6544654646, 'd': 446446464}\n"
     ]
    }
   ],
   "source": [
    "#  10. Build a simple contact book using a dictionary with options to add, search, and delete contacts.\n",
    "a = int(input(\"how may contacts\"))\n",
    "d = {}\n",
    "for x in range(a):\n",
    "    name = input(\"enter the name\")\n",
    "    cont_num = int(input(\"enter the number\"))\n",
    "    d[name] = cont_num\n",
    "print(d)\n",
    "\n",
    "if True:\n",
    "    s = input(\"enter yes or no\")\n",
    "    if s == \"yes\":\n",
    "        s_e = input(\"enter the name you want to search\")\n",
    "        if s_e in d:\n",
    "            print(d[s_e])\n",
    "        else:\n",
    "            print(\"not there\")\n",
    "    else:\n",
    "        print(\"you dont want to search\")\n",
    "if True:\n",
    "    r = input(\"enter yes or no to removee\")\n",
    "    if r == \"yes\":\n",
    "        r_e = input(\"which contact you want to remove\")\n",
    "        if r_e in d:\n",
    "            d.pop(r_e)\n",
    "            print(f\"{r_e} is remove\")\n",
    "        else:\n",
    "            print(\"that type of contact nor there\")\n",
    "    else:\n",
    "        print(\"you dont want to delete\")\n",
    "print(d)"
   ]
  }
 ],
 "metadata": {
  "kernelspec": {
   "display_name": "Python 3",
   "language": "python",
   "name": "python3"
  },
  "language_info": {
   "codemirror_mode": {
    "name": "ipython",
    "version": 3
   },
   "file_extension": ".py",
   "mimetype": "text/x-python",
   "name": "python",
   "nbconvert_exporter": "python",
   "pygments_lexer": "ipython3",
   "version": "3.12.9"
  }
 },
 "nbformat": 4,
 "nbformat_minor": 2
}
