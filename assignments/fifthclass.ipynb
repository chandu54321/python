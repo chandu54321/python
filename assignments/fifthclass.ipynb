{
 "cells": [
  {
   "cell_type": "markdown",
   "metadata": {},
   "source": [
    "# dictorany data type\n"
   ]
  },
  {
   "cell_type": "markdown",
   "metadata": {},
   "source": [
    "## improtant points of dictionary\n",
    "* items assign to the dictionary should be encloused with {}(flower brackets).\n",
    "* if you want represent items i ket value pairs then we generally use dictionary.\n",
    "* accepted a different data types.\n",
    "* duplicates are not allowed for keys, but allowed for the values.\n",
    "* insertion order is not preserverd.\n",
    "* indexing and slicing are not allowed.\n",
    "* we can incresese the decrease the dictionary size by simple adding .\n",
    "* dictionary data type is mutable."
   ]
  },
  {
   "cell_type": "markdown",
   "metadata": {},
   "source": [
    "### syntax of dictionary\n"
   ]
  },
  {
   "cell_type": "code",
   "execution_count": null,
   "metadata": {},
   "outputs": [],
   "source": [
    "d = { k1:b1, k2:b2, k3:b3 }"
   ]
  },
  {
   "cell_type": "code",
   "execution_count": 2,
   "metadata": {},
   "outputs": [
    {
     "name": "stdout",
     "output_type": "stream",
     "text": [
      "{}\n",
      "<class 'dict'>\n"
     ]
    }
   ],
   "source": [
    "d = {}\n",
    "print(d)\n",
    "print(type(d))"
   ]
  },
  {
   "cell_type": "code",
   "execution_count": null,
   "metadata": {},
   "outputs": [
    {
     "name": "stdout",
     "output_type": "stream",
     "text": [
      "dict_keys([10, 'language', 1.1, 1])\n",
      "dict_values(['python', True, False, 'first'])\n",
      "dict_items([(10, 'python'), ('language', True), (1.1, False), (1, 'first')])\n"
     ]
    }
   ],
   "source": [
    "d = {10:'python', 'language':True , 1.1:False, 1:'first' }\n",
    "print(d.keys())     \n",
    "print(d.values()) \n",
    "print(d.items())\n",
    "\n"
   ]
  },
  {
   "cell_type": "markdown",
   "metadata": {},
   "source": [
    "### other sequence to dictionary"
   ]
  },
  {
   "cell_type": "markdown",
   "metadata": {},
   "source": [
    "### list of tuple to dictionary"
   ]
  },
  {
   "cell_type": "code",
   "execution_count": 10,
   "metadata": {},
   "outputs": [
    {
     "name": "stdout",
     "output_type": "stream",
     "text": [
      "[(1, 'one'), (1.2, True), (10, 'two')]\n",
      "<class 'list'>\n"
     ]
    }
   ],
   "source": [
    "f = [(1, 'one'), (1.2, True) ,(10, 'two')]\n",
    "print(f)\n",
    "print(type(f))"
   ]
  },
  {
   "cell_type": "code",
   "execution_count": 11,
   "metadata": {},
   "outputs": [
    {
     "name": "stdout",
     "output_type": "stream",
     "text": [
      "{1: 'one', 1.2: True, 10: 'two'}\n",
      "<class 'dict'>\n"
     ]
    }
   ],
   "source": [
    "p = dict(f)\n",
    "print(p)\n",
    "print(type(p))"
   ]
  },
  {
   "cell_type": "markdown",
   "metadata": {},
   "source": [
    "### set of tuple to dictionary"
   ]
  },
  {
   "cell_type": "code",
   "execution_count": 12,
   "metadata": {},
   "outputs": [
    {
     "name": "stdout",
     "output_type": "stream",
     "text": [
      "{(1, 'one'), (1.2, True), (10, 'two')}\n",
      "<class 'set'>\n"
     ]
    }
   ],
   "source": [
    "f = {(1, 'one'), (1.2, True) ,(10, 'two')}\n",
    "print(f)\n",
    "print(type(f))"
   ]
  },
  {
   "cell_type": "code",
   "execution_count": 13,
   "metadata": {},
   "outputs": [
    {
     "name": "stdout",
     "output_type": "stream",
     "text": [
      "{1: 'one', 1.2: True, 10: 'two'}\n",
      "<class 'dict'>\n"
     ]
    }
   ],
   "source": [
    "p = dict(f)\n",
    "print(p)\n",
    "print(type(p))"
   ]
  },
  {
   "cell_type": "markdown",
   "metadata": {},
   "source": [
    "### modification - add or update keys and values"
   ]
  },
  {
   "cell_type": "code",
   "execution_count": 15,
   "metadata": {},
   "outputs": [
    {
     "name": "stdout",
     "output_type": "stream",
     "text": [
      "{1: 2, 1.2: True, 'first': 1, False: 'yes', 2: 'python', 10: 'java'}\n"
     ]
    }
   ],
   "source": [
    "dic = { 1:2, 1.2:True, 'first':1, False:'yes' }\n",
    "dic[2] = 'python'\n",
    "dic[10] = 'java'\n",
    "print(dic)"
   ]
  },
  {
   "cell_type": "markdown",
   "metadata": {},
   "source": [
    "###delete keys and values from dictionary"
   ]
  },
  {
   "cell_type": "code",
   "execution_count": 16,
   "metadata": {},
   "outputs": [
    {
     "name": "stdout",
     "output_type": "stream",
     "text": [
      "{1: 2, 1.2: True, 'first': 1, False: 'yes', 10: 'java'}\n"
     ]
    }
   ],
   "source": [
    "del dic[2]\n",
    "print(dic)"
   ]
  },
  {
   "cell_type": "code",
   "execution_count": null,
   "metadata": {},
   "outputs": [],
   "source": [
    "# write a program name and marks into a dictorany and play information on the screen"
   ]
  },
  {
   "cell_type": "code",
   "execution_count": 6,
   "metadata": {},
   "outputs": [
    {
     "name": "stdout",
     "output_type": "stream",
     "text": [
      "******************************\n",
      "Name \t\t Marks\n",
      "******************************\n",
      "first \t\t 1\n",
      "second \t\t 2\n",
      "second has scored 2 marks.\n"
     ]
    }
   ],
   "source": [
    "n = int(input('enter the how many numbere of students'))\n",
    "d = {}\n",
    "for i in range(n): # iterate for n times\n",
    "    name = input('enter the name of the student: ')\n",
    "    marks = int(input('enter the marks of students: '))\n",
    "    d[name] = marks\n",
    "\n",
    "\n",
    "print('*' * 30)\n",
    "print('Name', '\\t\\t', 'Marks')\n",
    "print('*' * 30)\n",
    "\n",
    "\n",
    "for name in d:\n",
    "    print(name, '\\t\\t', d[name])\n",
    "\n",
    "while True:\n",
    "    student_name = input('the the name of student') \n",
    "    if student_name in d:\n",
    "        print(f'{student_name} has scored {d[student_name]} marks.')\n",
    "    else:\n",
    "        print(f'{student_name} is not found in the records.')\n",
    "    break\n",
    "    print(\"thats end\")\n",
    "  \n"
   ]
  },
  {
   "cell_type": "code",
   "execution_count": null,
   "metadata": {},
   "outputs": [],
   "source": []
  },
  {
   "cell_type": "code",
   "execution_count": 1,
   "metadata": {},
   "outputs": [
    {
     "name": "stdout",
     "output_type": "stream",
     "text": [
      "------------------------------\n",
      "name \t\t marks\n",
      "------------------------------\n",
      "first \t\t 1\n",
      "second \t\t 2\n",
      "second 2\n"
     ]
    }
   ],
   "source": [
    "first = int(input(\"enter the numbers\"))\n",
    "d ={}\n",
    "for x in range(first):\n",
    "    name = input(\"entere the name\")\n",
    "    marks = int(input(\"entere the marks\"))\n",
    "    d[name]=marks\n",
    "\n",
    "print ('-' * 30 )\n",
    "print('name', '\\t\\t', 'marks')\n",
    "print('-' * 30)\n",
    "\n",
    "for name in d:\n",
    "    print(name, '\\t\\t', d[name])\n",
    "\n",
    "\n",
    "\n",
    "\n",
    "while True:\n",
    "    firs = input(\"enter teh naeme\")\n",
    "    if firs in d:\n",
    "        print(name, marks )\n",
    "    else:\n",
    "        print(\"not in the lsit\")\n",
    "    break\n",
    "    print('this is the end')\n"
   ]
  }
 ],
 "metadata": {
  "kernelspec": {
   "display_name": "Python 3",
   "language": "python",
   "name": "python3"
  },
  "language_info": {
   "codemirror_mode": {
    "name": "ipython",
    "version": 3
   },
   "file_extension": ".py",
   "mimetype": "text/x-python",
   "name": "python",
   "nbconvert_exporter": "python",
   "pygments_lexer": "ipython3",
   "version": "3.12.9"
  }
 },
 "nbformat": 4,
 "nbformat_minor": 2
}
