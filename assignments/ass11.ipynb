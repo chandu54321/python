{
 "cells": [
  {
   "cell_type": "code",
   "execution_count": 1,
   "metadata": {},
   "outputs": [
    {
     "name": "stdout",
     "output_type": "stream",
     "text": [
      "6\n",
      "-2\n",
      "8\n",
      "0.5\n"
     ]
    }
   ],
   "source": [
    "#  1. Write a Python program to take two numbers from the user and print their sum, difference, product, and quotient.\n",
    "\n",
    "a = int(input(\"enter the number\"))\n",
    "b = int(input(\"enter the number\"))\n",
    "print(a + b)\n",
    "print(a - b)\n",
    "print(a * b)\n",
    "print(a/b)"
   ]
  },
  {
   "cell_type": "code",
   "execution_count": 3,
   "metadata": {},
   "outputs": [
    {
     "name": "stdout",
     "output_type": "stream",
     "text": [
      "3 the number is odd\n"
     ]
    }
   ],
   "source": [
    "#  2. Check whether a number entered by the user is even or odd.\n",
    "ed = int(input(\"enter the number\"))\n",
    "if ed % 2 == 0:\n",
    "    print( ed, \"the number is even\")\n",
    "else:\n",
    "    print(ed, \"the number is odd\")"
   ]
  },
  {
   "cell_type": "code",
   "execution_count": null,
   "metadata": {},
   "outputs": [],
   "source": [
    "#  3. Convert a temperature from Celsius to Fahrenheit.\n"
   ]
  },
  {
   "cell_type": "code",
   "execution_count": 69,
   "metadata": {},
   "outputs": [
    {
     "name": "stdout",
     "output_type": "stream",
     "text": [
      "28.27431\n"
     ]
    }
   ],
   "source": [
    "#  4. Write a program that calculates the area of a circle using radius input by the user.\n",
    "# area od circle = Area=πr^2\n",
    "\n",
    "r = int(input(\"enter the number\"))\n",
    "area_circle = 3.14159 * (r ** 2)\n",
    "print(area_circle)"
   ]
  },
  {
   "cell_type": "code",
   "execution_count": 4,
   "metadata": {},
   "outputs": [
    {
     "name": "stdout",
     "output_type": "stream",
     "text": [
      "6\n"
     ]
    }
   ],
   "source": [
    "#  5. Take a string input and print its length.\n",
    "s = str(input(\"enter the string\"))\n",
    "print(len(s))"
   ]
  },
  {
   "cell_type": "code",
   "execution_count": null,
   "metadata": {},
   "outputs": [
    {
     "name": "stdout",
     "output_type": "stream",
     "text": [
      "it is a vowel\n"
     ]
    }
   ],
   "source": [
    "#  6. Write a Python program to check whether a given character is a vowel or not.\n",
    "d = \"first\"\n",
    "vowels = \"aeiou\"\n",
    "for x in d:\n",
    "    if x in vowels:\n",
    "        print(\"it is a vowel\")"
   ]
  },
  {
   "cell_type": "code",
   "execution_count": 11,
   "metadata": {},
   "outputs": [
    {
     "name": "stdout",
     "output_type": "stream",
     "text": [
      "PYTHON\n",
      "python\n"
     ]
    }
   ],
   "source": [
    "#  7. Convert a string to uppercase and lowercase using string methods.\n",
    "s = \"python\"\n",
    "d = s.upper()\n",
    "print(d)\n",
    "l = s.lower()\n",
    "print(l)"
   ]
  },
  {
   "cell_type": "code",
   "execution_count": null,
   "metadata": {},
   "outputs": [
    {
     "name": "stdout",
     "output_type": "stream",
     "text": [
      "1.111\n"
     ]
    }
   ],
   "source": [
    "#  8. Take a float input and print its rounded value. not done\n",
    "s = 1.111\n",
    "print(s)"
   ]
  },
  {
   "cell_type": "code",
   "execution_count": 15,
   "metadata": {},
   "outputs": [
    {
     "name": "stdout",
     "output_type": "stream",
     "text": [
      "the number is zero\n"
     ]
    }
   ],
   "source": [
    "#  9. Write a program that checks whether a number is positive, negative, or zero.\n",
    "s = int(input(\"enter the number\"))\n",
    "if s < 0:\n",
    "    print(\"the number is negative\")\n",
    "elif s > 0:\n",
    "    print(\"the number is postive\")\n",
    "else:\n",
    "    print(\"the number is zero\")"
   ]
  },
  {
   "cell_type": "code",
   "execution_count": 17,
   "metadata": {},
   "outputs": [
    {
     "name": "stdout",
     "output_type": "stream",
     "text": [
      "it is pallindrome\n"
     ]
    }
   ],
   "source": [
    "#  10. Create a program that checks whether a string is a palindrome.\n",
    "s = \"rar\"\n",
    "if s == s[::-1]:\n",
    "    print(\"it is pallindrome\")\n",
    "else:\n",
    "    print(\"not a pallindrome\")"
   ]
  },
  {
   "cell_type": "code",
   "execution_count": 18,
   "metadata": {},
   "outputs": [
    {
     "name": "stdout",
     "output_type": "stream",
     "text": [
      "6\n",
      "1\n",
      "3.6\n"
     ]
    }
   ],
   "source": [
    "#  11. Create a list with 5 numbers. Print the list, maximum, minimum, and average of the numbers.\n",
    "l = [1, 2, 4, 5, 6]\n",
    "print(max(l))\n",
    "print(min(l))\n",
    "print(sum(l)/len(l))"
   ]
  },
  {
   "cell_type": "code",
   "execution_count": 22,
   "metadata": {},
   "outputs": [
    {
     "name": "stdout",
     "output_type": "stream",
     "text": [
      "[1, 2, 3, 4, 5, 99]\n",
      "[1, 2, 0, 3, 4, 5, 99]\n",
      "[1, 0, 3, 4, 5, 99]\n"
     ]
    }
   ],
   "source": [
    "#  12. Write a Python program to append, insert, and remove elements from a list.\n",
    "l = [1, 2, 3, 4, 5]\n",
    "l.append(99)\n",
    "print(l)\n",
    "l.insert(2, 0) \n",
    "print(l)\n",
    "l.remove(2)\n",
    "print(l)"
   ]
  },
  {
   "cell_type": "code",
   "execution_count": 23,
   "metadata": {},
   "outputs": [
    {
     "name": "stdout",
     "output_type": "stream",
     "text": [
      "[3, 2, 1]\n"
     ]
    }
   ],
   "source": [
    "#  13. Write a program to reverse a list.\n",
    "s = [1, 2, 3]\n",
    "s.reverse()\n",
    "print(s)"
   ]
  },
  {
   "cell_type": "code",
   "execution_count": 58,
   "metadata": {},
   "outputs": [
    {
     "name": "stdout",
     "output_type": "stream",
     "text": [
      "{1: 1, 2: 2, 3: 2, 4: 2, 5: 1}\n"
     ]
    }
   ],
   "source": [
    "#  14. Count how many times a specific item appears in a list.\n",
    "s = [1, 2, 2, 3, 3, 4, 4, 5]\n",
    "d = {}\n",
    "for x in s:\n",
    "    if x in d:\n",
    "        d[x] += 1\n",
    "    else:\n",
    "        d[x] = 1\n",
    "print(d)\n",
    "    "
   ]
  },
  {
   "cell_type": "code",
   "execution_count": 60,
   "metadata": {},
   "outputs": [
    {
     "name": "stdout",
     "output_type": "stream",
     "text": [
      "['h', 'n', 'o', 'p', 't', 'y']\n"
     ]
    }
   ],
   "source": [
    "#  15. Create a list of strings and sort them in alphabetical order.\n",
    "s = \"python\"\n",
    "d = sorted(s)\n",
    "print(d)"
   ]
  },
  {
   "cell_type": "code",
   "execution_count": 28,
   "metadata": {},
   "outputs": [
    {
     "name": "stdout",
     "output_type": "stream",
     "text": [
      "[1, 2, 3, 4, 5]\n"
     ]
    }
   ],
   "source": [
    "#  16. Write a program that takes 5 numbers from the user and stores them in a list.\n",
    "\n",
    "l = []\n",
    "while len(l) < 5:\n",
    "    s = int(input(\"enter the nubmer\"))\n",
    "    l.append(s)\n",
    "print(l)"
   ]
  },
  {
   "cell_type": "code",
   "execution_count": 30,
   "metadata": {},
   "outputs": [
    {
     "name": "stdout",
     "output_type": "stream",
     "text": [
      "1\n",
      "-1\n",
      "True\n",
      "1.1\n",
      "first\n"
     ]
    }
   ],
   "source": [
    "#   17. Create a tuple with mixed data types and print each item using a loop.\n",
    "t = (1, -1, True, 1.1, \"first\")\n",
    "for x in t:\n",
    "    print(x)"
   ]
  },
  {
   "cell_type": "code",
   "execution_count": 31,
   "metadata": {},
   "outputs": [
    {
     "name": "stdout",
     "output_type": "stream",
     "text": [
      "[1, 2, 3, 4]\n",
      "<class 'list'>\n",
      "(1, 2, 3, 4)\n",
      "<class 'tuple'>\n"
     ]
    }
   ],
   "source": [
    "#  18. Write a program to convert a list into a tuple and a tuple into a list.\n",
    "t = (1, 2, 3, 4)\n",
    "l = list(t)\n",
    "print(l)\n",
    "print(type(l))\n",
    "t1 = tuple(l)\n",
    "print(t1)\n",
    "print(type(t1))"
   ]
  },
  {
   "cell_type": "code",
   "execution_count": 32,
   "metadata": {},
   "outputs": [
    {
     "name": "stdout",
     "output_type": "stream",
     "text": [
      "3\n"
     ]
    }
   ],
   "source": [
    "#  19. Access the third element in a tuple and print it.\n",
    "t = (1, 2, 3, 4)\n",
    "print(t[2])"
   ]
  },
  {
   "cell_type": "code",
   "execution_count": 36,
   "metadata": {},
   "outputs": [
    {
     "name": "stdout",
     "output_type": "stream",
     "text": [
      "1 2 3 4\n"
     ]
    }
   ],
   "source": [
    "#  20. Write a Python program to find the index of a specific element in a tuple.\n",
    "s = (1, 2, 3, 4)\n",
    "print(s[0],s[1],s[2],s[3])"
   ]
  },
  {
   "cell_type": "code",
   "execution_count": 39,
   "metadata": {},
   "outputs": [
    {
     "name": "stdout",
     "output_type": "stream",
     "text": [
      "{1, 2, 3, 4, 5, 6, 7, 8}\n",
      "{1, 2}\n",
      "{8, 5, 6, 7}\n"
     ]
    }
   ],
   "source": [
    "#  21. Create two sets and perform union, intersection, and difference operations.\n",
    "s1 = {1, 2, 3, 4}\n",
    "s2 = {1, 2, 5, 6, 7, 8}\n",
    "uni= s1.union(s2)\n",
    "inte = s1.intersection(s2)\n",
    "diff = s2.difference(s1)\n",
    "print(uni)\n",
    "print(inte)\n",
    "print(diff)"
   ]
  },
  {
   "cell_type": "code",
   "execution_count": 40,
   "metadata": {},
   "outputs": [
    {
     "name": "stdout",
     "output_type": "stream",
     "text": [
      "{1, 2, 3, 4}\n"
     ]
    }
   ],
   "source": [
    "#  22. Write a program that removes duplicate values from a list using a set.\n",
    "l = [1, 1, 2, 2, 3, 3, 4, 4, 4]\n",
    "s  = set(l)\n",
    "print(s)"
   ]
  },
  {
   "cell_type": "code",
   "execution_count": 41,
   "metadata": {},
   "outputs": [
    {
     "name": "stdout",
     "output_type": "stream",
     "text": [
      "True\n"
     ]
    }
   ],
   "source": [
    "#  23. Check whether an item exists in a set.\n",
    "s = {1, 2, 3, 4}\n",
    "print(1 in s)"
   ]
  },
  {
   "cell_type": "code",
   "execution_count": 43,
   "metadata": {},
   "outputs": [
    {
     "name": "stdout",
     "output_type": "stream",
     "text": [
      "{1, 2, 3, 4, 5, 6}\n",
      "{2, 3, 4, 5, 6}\n"
     ]
    }
   ],
   "source": [
    "#  24. Write a Python program to add and remove elements from a set.\n",
    "s = {1, 2, 3, 4, 5}\n",
    "s.add(6)\n",
    "print(s)\n",
    "s.remove(1)\n",
    "print(s)"
   ]
  },
  {
   "cell_type": "code",
   "execution_count": 44,
   "metadata": {},
   "outputs": [
    {
     "name": "stdout",
     "output_type": "stream",
     "text": [
      "{'ramu': 30, 'rahul': 78}\n"
     ]
    }
   ],
   "source": [
    "#  25. Create a dictionary of 3 students with names as keys and marks as values.\n",
    "d = {\"ramu\":30, \"rahul\":78}\n",
    "print(d)"
   ]
  },
  {
   "cell_type": "code",
   "execution_count": 47,
   "metadata": {},
   "outputs": [
    {
     "name": "stdout",
     "output_type": "stream",
     "text": [
      "{'ramu': 30, 'rahul': 78, 'naresh': 8}\n"
     ]
    }
   ],
   "source": [
    "#  26. Write a Python program to add a new key-value pair to an existing dictionary.\n",
    "d = {\"ramu\":30, \"rahul\":78}\n",
    "d[\"naresh\"] = 8\n",
    "print(d)"
   ]
  },
  {
   "cell_type": "code",
   "execution_count": 48,
   "metadata": {},
   "outputs": [
    {
     "name": "stdout",
     "output_type": "stream",
     "text": [
      "30\n"
     ]
    }
   ],
   "source": [
    "#  27. Retrieve the value of a specific key from a dictionary.\n",
    "d1 = {'ramu': 30, 'rahul': 78, 'naresh': 8}\n",
    "print(d1[\"ramu\"])"
   ]
  },
  {
   "cell_type": "code",
   "execution_count": 51,
   "metadata": {},
   "outputs": [
    {
     "name": "stdout",
     "output_type": "stream",
     "text": [
      "ramu 30\n",
      "rahul 78\n",
      "naresh 8\n"
     ]
    }
   ],
   "source": [
    "#  28. Loop through a dictionary and print all keys and values.\n",
    "d = {'ramu': 30, 'rahul': 78, 'naresh': 8}\n",
    "for x,y in d.items():\n",
    "    print(x,y)"
   ]
  },
  {
   "cell_type": "code",
   "execution_count": 56,
   "metadata": {},
   "outputs": [
    {
     "name": "stdout",
     "output_type": "stream",
     "text": [
      "{'ramu': 30, 'rahul': 78, 'naresh': 8, 1: 2, 4: 4}\n"
     ]
    }
   ],
   "source": [
    "#  29. Write a Python program to merge two dictionaries.\n",
    "d1 = {'ramu': 30, 'rahul': 78, 'naresh': 8}\n",
    "d2 = {1:2, 4:4}\n",
    "d1.update(d2)\n",
    "print(d1)"
   ]
  },
  {
   "cell_type": "code",
   "execution_count": 61,
   "metadata": {},
   "outputs": [
    {
     "name": "stdout",
     "output_type": "stream",
     "text": [
      "{'s': 2, 't': 1, 'r': 1, 'i': 1, 'n': 1, 'g': 1}\n"
     ]
    }
   ],
   "source": [
    "#  30. Count the frequency of each character in a given string using a dictionary.\n",
    "s = \"strings\"\n",
    "d = {}\n",
    "for c in s:\n",
    "    if c in d:\n",
    "        d[c] +=1\n",
    "    else:\n",
    "        d[c] = 1\n",
    "print(d)"
   ]
  }
 ],
 "metadata": {
  "kernelspec": {
   "display_name": "Python 3",
   "language": "python",
   "name": "python3"
  },
  "language_info": {
   "codemirror_mode": {
    "name": "ipython",
    "version": 3
   },
   "file_extension": ".py",
   "mimetype": "text/x-python",
   "name": "python",
   "nbconvert_exporter": "python",
   "pygments_lexer": "ipython3",
   "version": "3.12.9"
  }
 },
 "nbformat": 4,
 "nbformat_minor": 2
}
