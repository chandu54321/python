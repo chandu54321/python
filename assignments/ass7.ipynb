{
 "cells": [
  {
   "cell_type": "markdown",
   "metadata": {},
   "source": [
    "# fundamental data types"
   ]
  },
  {
   "cell_type": "markdown",
   "metadata": {},
   "source": [
    "#1\n",
    "* the fundamental data types are\n",
    "   int, float , bool , str ( this are the fundamental data types.)"
   ]
  },
  {
   "cell_type": "markdown",
   "metadata": {},
   "source": [
    "## int\n",
    "* it is immutable \n",
    "* int can be postive or negative and zero\n",
    "* ther is limit size of int\n",
    "* if there are number like 1.1,2.2 these are not int "
   ]
  },
  {
   "cell_type": "code",
   "execution_count": 37,
   "metadata": {},
   "outputs": [
    {
     "name": "stdout",
     "output_type": "stream",
     "text": [
      "-1\n",
      "<class 'int'>\n"
     ]
    }
   ],
   "source": [
    "# int \n",
    "f = -1\n",
    "print(f)\n",
    "print(type(f))"
   ]
  },
  {
   "cell_type": "markdown",
   "metadata": {},
   "source": [
    "# float\n",
    "* floats is immutable\n",
    "* float can be represent as decimal numbers.\n",
    "* it stores the decimal numbers only"
   ]
  },
  {
   "cell_type": "code",
   "execution_count": 38,
   "metadata": {},
   "outputs": [
    {
     "name": "stdout",
     "output_type": "stream",
     "text": [
      "1.1\n",
      "<class 'float'>\n"
     ]
    }
   ],
   "source": [
    "# float\n",
    "f = 1.1\n",
    "print(f)\n",
    "print(type(f))"
   ]
  },
  {
   "cell_type": "markdown",
   "metadata": {},
   "source": [
    "# bool\n",
    "* bool can be defined as the value or any argument we are passing is true or nor.\n",
    "* bool is True or false."
   ]
  },
  {
   "cell_type": "code",
   "execution_count": 39,
   "metadata": {},
   "outputs": [
    {
     "name": "stdout",
     "output_type": "stream",
     "text": [
      "False\n",
      "True\n"
     ]
    }
   ],
   "source": [
    "# example for bool \n",
    "a = 1\n",
    "b = 2\n",
    "print(a>b)\n",
    "print(a<b)"
   ]
  },
  {
   "cell_type": "markdown",
   "metadata": {},
   "source": [
    "# string\n",
    "* whatever the elcoses with ' '(single qotes) or \" \"(double qotes) and \"\"\" \"\"\"(thirble qotes) that we call it as string whether it is int,float or anything."
   ]
  },
  {
   "cell_type": "code",
   "execution_count": 40,
   "metadata": {},
   "outputs": [
    {
     "name": "stdout",
     "output_type": "stream",
     "text": [
      "first\n",
      "<class 'str'>\n",
      "first\n",
      "<class 'str'>\n",
      "first\n",
      "<class 'str'>\n"
     ]
    }
   ],
   "source": [
    "# examples for string\n",
    "s = \"first\"\n",
    "s1= \"\"\"first\"\"\"\n",
    "s2 = 'first'\n",
    "print(s)\n",
    "print(type(s))\n",
    "print(s1)\n",
    "print(type(s1))\n",
    "print(s2)\n",
    "print(type(s2))"
   ]
  },
  {
   "cell_type": "markdown",
   "metadata": {},
   "source": [
    "# 2\n",
    "## difference between integer and float\n",
    "* both will accept the numbers.\n",
    "* but int won't accept the decimal numbers. wheras float accept the interger numbers."
   ]
  },
  {
   "cell_type": "code",
   "execution_count": 44,
   "metadata": {},
   "outputs": [
    {
     "name": "stdout",
     "output_type": "stream",
     "text": [
      "1\n",
      "<class 'int'>\n",
      "1.2\n",
      "<class 'float'>\n"
     ]
    }
   ],
   "source": [
    "# examples for int and float\n",
    "a = 1\n",
    "b = 1.2\n",
    "print(a)\n",
    "print(type(a))\n",
    "print(b)\n",
    "print(type(b))"
   ]
  },
  {
   "cell_type": "markdown",
   "metadata": {},
   "source": [
    "# 3\n",
    "## what are the two possible values of the boolean data types? how are they used\n",
    "* the possible values of boolean data types are 'True' and 'False'\n",
    "* if we provide any conditon and if we check whether it is true or false we can done this with the help of bool."
   ]
  },
  {
   "cell_type": "code",
   "execution_count": 45,
   "metadata": {},
   "outputs": [
    {
     "name": "stdout",
     "output_type": "stream",
     "text": [
      "False\n",
      "True\n"
     ]
    }
   ],
   "source": [
    "# examples of bool\n",
    "b1 = 1\n",
    "b2 = 3\n",
    "print(b1>b2)\n",
    "print(b2>b1)"
   ]
  },
  {
   "cell_type": "markdown",
   "metadata": {},
   "source": [
    "# 4 \n",
    "## 4 what is complex numbers. how do we create it\n",
    "?"
   ]
  },
  {
   "cell_type": "code",
   "execution_count": 41,
   "metadata": {},
   "outputs": [
    {
     "name": "stdout",
     "output_type": "stream",
     "text": [
      "<class 'int'>\n",
      "<class 'float'>\n",
      "<class 'bool'>\n"
     ]
    }
   ],
   "source": [
    "#5\n",
    "i = 1\n",
    "f = 1.1\n",
    "b = True\n",
    "print(type(i))\n",
    "print(type(f))\n",
    "print(type(b))"
   ]
  },
  {
   "cell_type": "code",
   "execution_count": 42,
   "metadata": {},
   "outputs": [
    {
     "name": "stdout",
     "output_type": "stream",
     "text": [
      "this is not an int\n"
     ]
    }
   ],
   "source": [
    "#6\n",
    "f = input(\"enter the number\")\n",
    "while f == int:\n",
    "    print(\"this number is int\")\n",
    "print(\"this is not an int\")"
   ]
  },
  {
   "cell_type": "code",
   "execution_count": 43,
   "metadata": {},
   "outputs": [
    {
     "ename": "ValueError",
     "evalue": "could not convert string to float: ''",
     "output_type": "error",
     "traceback": [
      "\u001b[31m---------------------------------------------------------------------------\u001b[39m",
      "\u001b[31mValueError\u001b[39m                                Traceback (most recent call last)",
      "\u001b[36mCell\u001b[39m\u001b[36m \u001b[39m\u001b[32mIn[43]\u001b[39m\u001b[32m, line 2\u001b[39m\n\u001b[32m      1\u001b[39m \u001b[38;5;66;03m#7\u001b[39;00m\n\u001b[32m----> \u001b[39m\u001b[32m2\u001b[39m f = \u001b[38;5;28;43mfloat\u001b[39;49m\u001b[43m(\u001b[49m\u001b[38;5;28;43minput\u001b[39;49m\u001b[43m(\u001b[49m\u001b[33;43m\"\u001b[39;49m\u001b[33;43menter the number\u001b[39;49m\u001b[33;43m\"\u001b[39;49m\u001b[43m)\u001b[49m\u001b[43m)\u001b[49m\n\u001b[32m      3\u001b[39m i = \u001b[38;5;28mint\u001b[39m(f)\n\u001b[32m      4\u001b[39m s = \u001b[38;5;28mstr\u001b[39m(f)\n",
      "\u001b[31mValueError\u001b[39m: could not convert string to float: ''"
     ]
    }
   ],
   "source": [
    "#7\n",
    "f = float(input(\"enter the number\"))\n",
    "i = int(f)\n",
    "s = str(f)\n",
    "print(f)\n",
    "print(type(f))\n",
    "print(i)\n",
    "print(type(i))\n",
    "print(s)\n",
    "print(type(s))"
   ]
  },
  {
   "cell_type": "code",
   "execution_count": null,
   "metadata": {},
   "outputs": [
    {
     "data": {
      "text/plain": [
       "False"
      ]
     },
     "execution_count": 10,
     "metadata": {},
     "output_type": "execute_result"
    }
   ],
   "source": [
    "#8\n",
    "10 > 5 \n",
    "5 < 2\n",
    "5 == 5\n",
    "7 >= 7"
   ]
  },
  {
   "cell_type": "code",
   "execution_count": null,
   "metadata": {},
   "outputs": [
    {
     "name": "stdout",
     "output_type": "stream",
     "text": [
      "5 10\n"
     ]
    }
   ],
   "source": [
    "#9\n",
    "a = 10\n",
    "b = 5\n",
    "a, b = b , a\n",
    "print(a,b)"
   ]
  },
  {
   "cell_type": "markdown",
   "metadata": {},
   "source": [
    "# collection data types"
   ]
  },
  {
   "cell_type": "markdown",
   "metadata": {},
   "source": [
    "#1\n",
    "## collection data types in python are:\n",
    "* list\n",
    "* tuple\n",
    "* set\n",
    "* string\n",
    "* dictionary\n",
    "### list\n",
    "* list can be start and end enclose with symbol is [].\n",
    "* list is mutable \n",
    "* insertion order is preserved in list.\n",
    "* duplicates are allowed in list\n",
    "* indexing and slicing are allowed in list.\n",
    "### tuples\n",
    "* tuples can be start and end enclose with symbol is ().\n",
    "* list is immutable. \n",
    "* insertion order is preserved in tuples.\n",
    "* duplicates are allowed in tuples.\n",
    "* indexing and slicing are allowed in tuples.\n",
    "* compare to list tuples are faster because in tuples we dont have that options like in list.\n",
    "### set\n",
    "* set can be start and end enclose with symbol is {}.\n",
    "* set is mutable . but inside the elements of set is immuatable.\n",
    "* insertion order is not preserved in set.\n",
    "* duplicates are not allowed in set.\n",
    "* indexing and slicing are not allowed in set.\n",
    "### dictionary\n",
    "* dict can be start and end enclose with symbol is {}.\n",
    "* dict is mutable \n",
    "* duplicates are not allowed in key. by can be allowed in values.\n",
    "* indexing and slicing are not allowed in dict\n",
    "### string\n",
    "* dict  can be start and end enclose  with symbol is \" \" or ' ' .\n",
    "* string is immutable.\n",
    "* indexing and slicing are  allowed in string.\n",
    " "
   ]
  },
  {
   "cell_type": "markdown",
   "metadata": {},
   "source": [
    "#### 2\n",
    "##### difference between list and tuples:\n",
    "* list is mutable and tuples are immutable .\n",
    "* tuple is faster compare to list.\n",
    "* both list and tuple allows the duplicates.\n",
    "* both list and tuple insertioin oreder is preserved.\n",
    "* both allows the indexing and slicing.\n",
    "* data will changes in list. where as tuple won't change the data."
   ]
  },
  {
   "cell_type": "code",
   "execution_count": null,
   "metadata": {},
   "outputs": [
    {
     "name": "stdout",
     "output_type": "stream",
     "text": [
      "[1, 2, 3, 4, 4]\n",
      "<class 'list'>\n",
      "(1, 2, 3, 4, 5)\n",
      "<class 'list'>\n"
     ]
    }
   ],
   "source": [
    "#2 list tuple examples\n",
    "l = [1, 2, 3, 4, 4]\n",
    "print(l)\n",
    "print(type(l))\n",
    "\n",
    "t = (1, 2, 3, 4, 5)\n",
    "print(t)\n",
    "print(type(l))"
   ]
  },
  {
   "cell_type": "markdown",
   "metadata": {},
   "source": [
    "#### 3\n",
    "##### how set is differenct from list..\n",
    "*  both set and list is mutable.\n",
    "* indexing and slicing allows in list but not in set.\n",
    "* insertion order is preserved in list but nor in set.\n",
    "* duplicates are  allowed in list but not in set.\n",
    "\n"
   ]
  },
  {
   "cell_type": "code",
   "execution_count": null,
   "metadata": {},
   "outputs": [
    {
     "name": "stdout",
     "output_type": "stream",
     "text": [
      "[1, 1, 2, 3, 3, 3, 4, 4, 4, 4]\n",
      "[1, 2, 2, 3, 3, 3, 4, 4, 4, 4]\n",
      "1\n",
      "{1, 2, 3, 4}\n"
     ]
    },
    {
     "ename": "TypeError",
     "evalue": "'set' object is not subscriptable",
     "output_type": "error",
     "traceback": [
      "\u001b[31m---------------------------------------------------------------------------\u001b[39m",
      "\u001b[31mTypeError\u001b[39m                                 Traceback (most recent call last)",
      "\u001b[36mCell\u001b[39m\u001b[36m \u001b[39m\u001b[32mIn[33]\u001b[39m\u001b[32m, line 11\u001b[39m\n\u001b[32m      9\u001b[39m s = {\u001b[32m1\u001b[39m, \u001b[32m1\u001b[39m, \u001b[32m2\u001b[39m, \u001b[32m3\u001b[39m, \u001b[32m3\u001b[39m, \u001b[32m3\u001b[39m, \u001b[32m4\u001b[39m, \u001b[32m4\u001b[39m, \u001b[32m4\u001b[39m, \u001b[32m4\u001b[39m}\n\u001b[32m     10\u001b[39m \u001b[38;5;28mprint\u001b[39m(s)\n\u001b[32m---> \u001b[39m\u001b[32m11\u001b[39m \u001b[38;5;28mprint\u001b[39m(\u001b[43ms\u001b[49m\u001b[43m[\u001b[49m\u001b[32;43m1\u001b[39;49m\u001b[43m]\u001b[49m)\n\u001b[32m     12\u001b[39m s[\u001b[32m1\u001b[39m] = \u001b[32m1\u001b[39m\n\u001b[32m     13\u001b[39m \u001b[38;5;28mprint\u001b[39m(s)\n",
      "\u001b[31mTypeError\u001b[39m: 'set' object is not subscriptable"
     ]
    }
   ],
   "source": [
    "#3 examples of list and set\n",
    "\n",
    "l = [1, 1, 2, 3, 3, 3, 4, 4, 4, 4]\n",
    "print(l)\n",
    "l[1]=2\n",
    "print(l)\n",
    "print(l[0])\n",
    "\n",
    "s = {1, 1, 2, 3, 3, 3, 4, 4, 4, 4}\n",
    "print(s)\n",
    "print(s[1])\n",
    "s[1] = 1\n",
    "print(s)"
   ]
  },
  {
   "cell_type": "markdown",
   "metadata": {},
   "source": [
    "#### 5\n",
    "##### dictionary in python.\n",
    "* Mutable (can be modified)\n",
    "* Unordered (before Python 3.7; ordered in 3.7+)\n",
    "* Indexed by keys, not positions\n",
    "* example of dict:\n",
    "   d = {1:2, 2:2, 3:3}\n",
    "##### how it is different from list\n",
    "* list we elcloses with []. for dict we use {}.\n",
    "* list allows duplicates . but for dict only allows for values not for key.\n",
    "* idexing is allowed in list by using the postions, but for dict indexing is allowed by using the keys not from postions .\n"
   ]
  },
  {
   "cell_type": "code",
   "execution_count": null,
   "metadata": {},
   "outputs": [
    {
     "name": "stdout",
     "output_type": "stream",
     "text": [
      "5\n",
      "1\n",
      "15\n"
     ]
    }
   ],
   "source": [
    "#5\n",
    "l = [1, 2, 3, 4, 5]\n",
    "print(max(l))\n",
    "print(min(l))\n",
    "print(sum(l))"
   ]
  },
  {
   "cell_type": "code",
   "execution_count": null,
   "metadata": {},
   "outputs": [
    {
     "name": "stdout",
     "output_type": "stream",
     "text": [
      "[1, 2, 3]\n"
     ]
    }
   ],
   "source": [
    "#6\n",
    "f = [ 1, 2, 3, 1, 2, 3, 1, 2, 3]\n",
    "s = []\n",
    "for x in f:\n",
    "    if x not in s:\n",
    "        s.append(x)\n",
    "print(s)"
   ]
  },
  {
   "cell_type": "code",
   "execution_count": null,
   "metadata": {},
   "outputs": [
    {
     "name": "stdout",
     "output_type": "stream",
     "text": [
      "{1, 2, 3}\n"
     ]
    }
   ],
   "source": [
    "# 6\n",
    "f = [ 1, 2, 3, 1, 2, 3, 1, 2, 3]\n",
    "s = set(f)\n",
    "print(s)"
   ]
  },
  {
   "cell_type": "code",
   "execution_count": null,
   "metadata": {},
   "outputs": [
    {
     "name": "stdout",
     "output_type": "stream",
     "text": [
      "30\n",
      "5\n",
      "[10, 20, 30, 40, 50]\n"
     ]
    }
   ],
   "source": [
    "#7\n",
    "t = (10, 20, 30, 40, 50)\n",
    "print(t[2])\n",
    "print(len(t))\n",
    "s = list(t)\n",
    "print(s)"
   ]
  },
  {
   "cell_type": "code",
   "execution_count": null,
   "metadata": {},
   "outputs": [
    {
     "name": "stdout",
     "output_type": "stream",
     "text": [
      "{1: 2, 2: 3, 4: 5, 7: 3}\n",
      "{1: 2, 2: 3, 4: 5, 7: 3, 0: 1}\n",
      "{2: 3, 4: 5, 7: 3, 0: 1}\n"
     ]
    }
   ],
   "source": [
    "#8\n",
    "d = {1:2, 2:3, 4:5, 7:3}\n",
    "print(d)\n",
    "d[0]=1\n",
    "print(d)\n",
    "del d[1]\n",
    "print(d)"
   ]
  },
  {
   "cell_type": "code",
   "execution_count": null,
   "metadata": {},
   "outputs": [
    {
     "name": "stdout",
     "output_type": "stream",
     "text": [
      "90\n",
      "{'alice': 85, 'bob': 90, 'charlie': 80}\n",
      "{'alice': 85, 'bob': 90, 'charlie': 80, 'rohan': 60}\n"
     ]
    }
   ],
   "source": [
    "#9\n",
    "marks = {\"alice\":85, \"bob\":90, \"charlie\":78}\n",
    "print(marks.get(\"bob\"))\n",
    "marks[\"charlie\"]=80\n",
    "print(marks)\n",
    "marks[\"rohan\"]=60\n",
    "print(marks)"
   ]
  }
 ],
 "metadata": {
  "kernelspec": {
   "display_name": "Python 3",
   "language": "python",
   "name": "python3"
  },
  "language_info": {
   "codemirror_mode": {
    "name": "ipython",
    "version": 3
   },
   "file_extension": ".py",
   "mimetype": "text/x-python",
   "name": "python",
   "nbconvert_exporter": "python",
   "pygments_lexer": "ipython3",
   "version": "3.12.9"
  }
 },
 "nbformat": 4,
 "nbformat_minor": 2
}
