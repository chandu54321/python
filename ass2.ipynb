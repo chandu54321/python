{
 "cells": [
  {
   "cell_type": "code",
   "execution_count": 1,
   "metadata": {},
   "outputs": [
    {
     "name": "stdout",
     "output_type": "stream",
     "text": [
      "[1, 3, 4, 'first', 1.4]\n"
     ]
    }
   ],
   "source": [
    "#1\n",
    "ls = [1, 3, 4, 'first', 1.4]\n",
    "print(ls)"
   ]
  },
  {
   "cell_type": "code",
   "execution_count": null,
   "metadata": {},
   "outputs": [
    {
     "name": "stdout",
     "output_type": "stream",
     "text": [
      "the largest number is: 20, the samallest number is: 1\n"
     ]
    }
   ],
   "source": [
    "#2\n",
    "ls = [ 1, 3, 4 , 7, 20]\n",
    "largest = max(ls)\n",
    "smallest = min(ls)\n",
    "print(f\"the largest number is: {largest}, the samallest number is: {smallest}\")"
   ]
  },
  {
   "cell_type": "code",
   "execution_count": 10,
   "metadata": {},
   "outputs": [
    {
     "name": "stdout",
     "output_type": "stream",
     "text": [
      "[1, 3, 5, 6]\n",
      "<class 'list'>\n"
     ]
    }
   ],
   "source": [
    "#3 \n",
    "dup = [1, 1, 3, 5, 5, 5, 6]\n",
    "rem_dup = list(set(dup))\n",
    "print(rem_dup)\n",
    "print(type(rem_dup))"
   ]
  },
  {
   "cell_type": "code",
   "execution_count": 11,
   "metadata": {},
   "outputs": [
    {
     "name": "stdout",
     "output_type": "stream",
     "text": [
      "this is the second largest nubmer: 7\n"
     ]
    }
   ],
   "source": [
    "#4\n",
    "num = [1, 2, 4, 5, 6, 7, 8]\n",
    "first_largest = max(num)\n",
    "num.remove(first_largest)\n",
    "second_largest = max(num)\n",
    "print(f\"this is the second largest nubmer: {second_largest}\")"
   ]
  },
  {
   "cell_type": "code",
   "execution_count": 13,
   "metadata": {},
   "outputs": [
    {
     "name": "stdout",
     "output_type": "stream",
     "text": [
      "[1, 1, 3, 3, 4, 5, 6, 8, 8, 9]\n"
     ]
    }
   ],
   "source": [
    "#5\n",
    "num1 = [1, 8, 5, 6, 3]\n",
    "num2 = [9, 8, 4, 3, 1]\n",
    "num1.sort()\n",
    "num2.sort()\n",
    "mer = num1+num2\n",
    "mer.sort()\n",
    "print(mer)"
   ]
  },
  {
   "cell_type": "code",
   "execution_count": 9,
   "metadata": {},
   "outputs": [
    {
     "name": "stdout",
     "output_type": "stream",
     "text": [
      "[3, 4, 5, 1, 2]\n"
     ]
    }
   ],
   "source": [
    "#6\n",
    "lst = [1, 2, 3, 4, 5]\n",
    "k = 2\n",
    "k = k % len(lst)\n",
    "lst = lst[k:] + lst[:k]\n",
    "print(lst) \n"
   ]
  },
  {
   "cell_type": "code",
   "execution_count": 14,
   "metadata": {},
   "outputs": [
    {
     "name": "stdout",
     "output_type": "stream",
     "text": [
      "[9, 8, 6, 5, 4, 3, 1]\n"
     ]
    }
   ],
   "source": [
    "#7\n",
    "samp = [1, 4, 5, 6, 8, 9, 3]\n",
    "samp.sort(reverse=True)\n",
    "print(samp)\n"
   ]
  },
  {
   "cell_type": "code",
   "execution_count": 16,
   "metadata": {},
   "outputs": [
    {
     "name": "stdout",
     "output_type": "stream",
     "text": [
      "16\n"
     ]
    }
   ],
   "source": [
    "#8\n",
    "sam = [ 2, 4, 5, 5]\n",
    "first = sum(sam)\n",
    "print(first)"
   ]
  },
  {
   "cell_type": "code",
   "execution_count": 19,
   "metadata": {},
   "outputs": [
    {
     "name": "stdout",
     "output_type": "stream",
     "text": [
      "4.0\n"
     ]
    }
   ],
   "source": [
    "#9\n",
    "sam = [ 2, 4, 5, 5]\n",
    "first = sum(sam)\n",
    "cou = len(sam)\n",
    "average = first / cou\n",
    "print(average)\n"
   ]
  },
  {
   "cell_type": "code",
   "execution_count": 5,
   "metadata": {},
   "outputs": [
    {
     "name": "stdout",
     "output_type": "stream",
     "text": [
      "2\n"
     ]
    }
   ],
   "source": [
    "#10\n",
    "firs = [ 1, 2, 3, 4, 5, 5]\n",
    "nect = firs.count(5)\n",
    "print(nect)\n"
   ]
  },
  {
   "cell_type": "code",
   "execution_count": 21,
   "metadata": {},
   "outputs": [
    {
     "name": "stdout",
     "output_type": "stream",
     "text": [
      "[3, 5, 8, 1]\n"
     ]
    }
   ],
   "source": [
    "#11\n",
    "lis = [ 1, 8, 5, 3]\n",
    "first = list(reversed(lis))\n",
    "print(first)"
   ]
  },
  {
   "cell_type": "code",
   "execution_count": null,
   "metadata": {},
   "outputs": [
    {
     "name": "stdout",
     "output_type": "stream",
     "text": [
      "[4, 5]\n"
     ]
    }
   ],
   "source": [
    "#12\n",
    "list1 = [1, 2, 3, 4, 5]\n",
    "list2 = [4, 5, 6, 7, 8]\n",
    "set1 = set(list1)\n",
    "set2 = set(list2)\n",
    "intersection = set1 & set2\n",
    "print(intersection)\n"
   ]
  },
  {
   "cell_type": "code",
   "execution_count": 2,
   "metadata": {},
   "outputs": [
    {
     "name": "stdout",
     "output_type": "stream",
     "text": [
      "[4, 5, 9, 3]\n"
     ]
    }
   ],
   "source": [
    "#13\n",
    "eve = [ 2, 4, 5, 9, 3]\n",
    "for num in eve:\n",
    "    if num % 2 == 0:\n",
    "        eve.remove(num)\n",
    "print(eve)        "
   ]
  },
  {
   "cell_type": "code",
   "execution_count": 12,
   "metadata": {},
   "outputs": [
    {
     "name": "stdout",
     "output_type": "stream",
     "text": [
      "[0, 1, 2, 4, 5, 7, 9]\n"
     ]
    }
   ],
   "source": [
    "#14\n",
    "firs = [ 2, 4, 5, 7, 9, 1, 0]\n",
    "without_sorted  = sorted(firs)\n",
    "print(without_sorted)\n"
   ]
  },
  {
   "cell_type": "code",
   "execution_count": 6,
   "metadata": {},
   "outputs": [
    {
     "name": "stdout",
     "output_type": "stream",
     "text": [
      "['THIS IS ABOUT PYTHON PROGRAM ']\n"
     ]
    }
   ],
   "source": [
    "#15\n",
    "fi = [ 'this is about python program ']\n",
    "upper = [x.upper() for x in fi]\n",
    "print(upper)"
   ]
  },
  {
   "cell_type": "code",
   "execution_count": 8,
   "metadata": {},
   "outputs": [
    {
     "name": "stdout",
     "output_type": "stream",
     "text": [
      "[1, 3, 6, 10, 15]\n"
     ]
    }
   ],
   "source": [
    "#16\n",
    "firs = [ 1, 2, 3, 4, 5]\n",
    "sum = []\n",
    "total = 0\n",
    "for x in firs:\n",
    "    total += x\n",
    "    sum.append(total)\n",
    "print(sum)\n",
    "\n",
    "\n"
   ]
  },
  {
   "cell_type": "code",
   "execution_count": null,
   "metadata": {},
   "outputs": [
    {
     "name": "stdout",
     "output_type": "stream",
     "text": [
      "50\n"
     ]
    }
   ],
   "source": [
    "#17\n",
    "listA = [45, 20, 11, 50, 17, 45, 50,13, 45]\n",
    "res = max(set(listA), key = listA.count)\n",
    "print(res)"
   ]
  },
  {
   "cell_type": "code",
   "execution_count": 11,
   "metadata": {},
   "outputs": [
    {
     "name": "stdout",
     "output_type": "stream",
     "text": [
      "[1, 3, 4, 5] [6, 6, 8]\n"
     ]
    }
   ],
   "source": [
    "#18\n",
    "li = [ 1, 3, 4, 5, 6, 6, 8]\n",
    "print(li[0:4],li[4:8])"
   ]
  },
  {
   "cell_type": "code",
   "execution_count": null,
   "metadata": {},
   "outputs": [],
   "source": [
    "#19\n",
    "\n"
   ]
  },
  {
   "cell_type": "code",
   "execution_count": 12,
   "metadata": {},
   "outputs": [
    {
     "name": "stdout",
     "output_type": "stream",
     "text": [
      "[1, 2, 3, 4, 5, 6]\n"
     ]
    }
   ],
   "source": [
    "#20\n",
    "nested_list = [[1, 2], [3, 4], [5, 6]]\n",
    "flattened_list = [x for sublist in nested_list for x in sublist]\n",
    "print(flattened_list) \n"
   ]
  }
 ],
 "metadata": {
  "kernelspec": {
   "display_name": "Python 3",
   "language": "python",
   "name": "python3"
  },
  "language_info": {
   "codemirror_mode": {
    "name": "ipython",
    "version": 3
   },
   "file_extension": ".py",
   "mimetype": "text/x-python",
   "name": "python",
   "nbconvert_exporter": "python",
   "pygments_lexer": "ipython3",
   "version": "3.12.9"
  }
 },
 "nbformat": 4,
 "nbformat_minor": 2
}
