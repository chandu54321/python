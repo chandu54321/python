{
 "cells": [
  {
   "cell_type": "code",
   "execution_count": 1,
   "metadata": {},
   "outputs": [
    {
     "name": "stdout",
     "output_type": "stream",
     "text": [
      "[1, 3, 4, 5, 5]\n"
     ]
    }
   ],
   "source": [
    "#1\n",
    "# we can create list by using [].\n",
    "# in that list we can seperated each items with (,).\n",
    "# example\n",
    "f = [1, 3, 4, 5, 5]\n",
    "print(f)"
   ]
  },
  {
   "cell_type": "code",
   "execution_count": 2,
   "metadata": {},
   "outputs": [
    {
     "name": "stdout",
     "output_type": "stream",
     "text": [
      "5\n"
     ]
    }
   ],
   "source": [
    "#2\n",
    "f = [1, 4, 6, 6, 8]\n",
    "print(len(f))"
   ]
  },
  {
   "cell_type": "code",
   "execution_count": 3,
   "metadata": {},
   "outputs": [
    {
     "name": "stdout",
     "output_type": "stream",
     "text": [
      "4\n"
     ]
    }
   ],
   "source": [
    "#3\n",
    "g = [ 2, 4, 5, 7, 8]\n",
    "print(g[1])"
   ]
  },
  {
   "cell_type": "code",
   "execution_count": 11,
   "metadata": {},
   "outputs": [
    {
     "name": "stdout",
     "output_type": "stream",
     "text": [
      "[3, 'second', 5, 8]\n"
     ]
    }
   ],
   "source": [
    "#4\n",
    "g = [ 3, 'first', 5, 5.4 ]\n",
    "g[1] = 'second'\n",
    "g1 = g\n",
    "g1[3] = 8\n",
    "print(g)"
   ]
  },
  {
   "cell_type": "code",
   "execution_count": 15,
   "metadata": {},
   "outputs": [
    {
     "name": "stdout",
     "output_type": "stream",
     "text": [
      "[4, 5, 8, 9, 9]\n"
     ]
    }
   ],
   "source": [
    "#5\n",
    "f = [ 4, 5, 8, 9] \n",
    "f.append(9)\n",
    "print(f)"
   ]
  },
  {
   "cell_type": "code",
   "execution_count": 14,
   "metadata": {},
   "outputs": [
    {
     "name": "stdout",
     "output_type": "stream",
     "text": [
      "[2, 8, 4, 8, 9, 10]\n"
     ]
    }
   ],
   "source": [
    "#6\n",
    "f = [ 2, 4, 8, 9, 10]\n",
    "f.insert(1, 8)\n",
    "print(f)"
   ]
  },
  {
   "cell_type": "code",
   "execution_count": 19,
   "metadata": {},
   "outputs": [
    {
     "name": "stdout",
     "output_type": "stream",
     "text": [
      "[4, 8, 9, 10]\n"
     ]
    }
   ],
   "source": [
    "#7\n",
    "f = [ 2, 4, 8, 9, 10]\n",
    "f.remove(2)\n",
    "print(f)"
   ]
  },
  {
   "cell_type": "code",
   "execution_count": 49,
   "metadata": {},
   "outputs": [
    {
     "name": "stdout",
     "output_type": "stream",
     "text": [
      "9\n"
     ]
    }
   ],
   "source": [
    "#8\n",
    "f = [ 3, 4, 5, 7, 9]\n",
    "print(f[-1])"
   ]
  },
  {
   "cell_type": "code",
   "execution_count": 51,
   "metadata": {},
   "outputs": [
    {
     "name": "stdout",
     "output_type": "stream",
     "text": [
      "[1, 2, 2, 3, 4, 5, 8]\n",
      "[8, 5, 4, 3, 2, 2, 1]\n",
      "[1, 2, 2, 3, 4, 5, 8]\n"
     ]
    }
   ],
   "source": [
    "#9 (pending)\n",
    "f = [2, 3, 4, 5, 8, 1, 2]\n",
    "f.sort()\n",
    "print(f)\n",
    "f.reverse()\n",
    "print(f)\n",
    "n = list(reversed(f))\n",
    "print(n)"
   ]
  },
  {
   "cell_type": "code",
   "execution_count": 22,
   "metadata": {},
   "outputs": [
    {
     "name": "stdout",
     "output_type": "stream",
     "text": [
      "[1, 5, 5, 4, 2]\n"
     ]
    }
   ],
   "source": [
    "#10\n",
    "f = [ 2, 4, 5, 5, 1]\n",
    "f.reverse()\n",
    "print(f)"
   ]
  },
  {
   "cell_type": "markdown",
   "metadata": {},
   "source": [
    "# tuple"
   ]
  },
  {
   "cell_type": "code",
   "execution_count": 23,
   "metadata": {},
   "outputs": [
    {
     "name": "stdout",
     "output_type": "stream",
     "text": [
      "<class 'tuple'>\n"
     ]
    }
   ],
   "source": [
    "#11\n",
    "# we can create tuple by using the () .\n",
    "# example\n",
    "f = (2, 4, 7, 8, 9)\n",
    "print(type(f))"
   ]
  },
  {
   "cell_type": "code",
   "execution_count": 24,
   "metadata": {},
   "outputs": [
    {
     "name": "stdout",
     "output_type": "stream",
     "text": [
      "banana\n"
     ]
    }
   ],
   "source": [
    "#12\n",
    "f = ('banana', 'mango', 'graph')\n",
    "print(f[0])"
   ]
  },
  {
   "cell_type": "code",
   "execution_count": 25,
   "metadata": {},
   "outputs": [
    {
     "name": "stdout",
     "output_type": "stream",
     "text": [
      "3\n"
     ]
    }
   ],
   "source": [
    "#13\n",
    "f = ('banana', 'mango', 'graph')\n",
    "print(len(f))"
   ]
  },
  {
   "cell_type": "code",
   "execution_count": 26,
   "metadata": {},
   "outputs": [
    {
     "name": "stdout",
     "output_type": "stream",
     "text": [
      "(1, 2, 3, 4, 5, 3, 4, 7, 8, 9)\n"
     ]
    }
   ],
   "source": [
    "#14\n",
    "f = (1, 2, 3, 4, 5)\n",
    "g = (3, 4, 7, 8, 9)\n",
    "nect = f + g\n",
    "print(nect)"
   ]
  },
  {
   "cell_type": "code",
   "execution_count": 27,
   "metadata": {},
   "outputs": [
    {
     "name": "stdout",
     "output_type": "stream",
     "text": [
      "(1, 2, 3, 4, 1, 2, 3, 4)\n"
     ]
    }
   ],
   "source": [
    "#15\n",
    "f = (1, 2, 3, 4)\n",
    "c = f * 2\n",
    "print(c)\n"
   ]
  },
  {
   "cell_type": "code",
   "execution_count": null,
   "metadata": {},
   "outputs": [
    {
     "name": "stdout",
     "output_type": "stream",
     "text": [
      "3\n"
     ]
    }
   ],
   "source": [
    "#16 by using the index method we can find the value of the index\n",
    "\n",
    "fr = (1, 2, 3, 5, 6)\n",
    "Fs = fr.index(5)\n",
    "print(Fs)"
   ]
  },
  {
   "cell_type": "code",
   "execution_count": 29,
   "metadata": {},
   "outputs": [
    {
     "name": "stdout",
     "output_type": "stream",
     "text": [
      "2\n"
     ]
    }
   ],
   "source": [
    "#17\n",
    "f = (1, 1, 3, 4, 5, 6, 7)\n",
    "print(f.count(1))"
   ]
  },
  {
   "cell_type": "code",
   "execution_count": 40,
   "metadata": {},
   "outputs": [
    {
     "name": "stdout",
     "output_type": "stream",
     "text": [
      "True\n",
      "False\n"
     ]
    }
   ],
   "source": [
    "#18\n",
    "f = (1, 2, 4, 5, 8, 7)\n",
    "print( 1 in f )\n",
    "print( 1 not in f )\n"
   ]
  },
  {
   "cell_type": "code",
   "execution_count": 32,
   "metadata": {},
   "outputs": [
    {
     "name": "stdout",
     "output_type": "stream",
     "text": [
      "<class 'tuple'>\n",
      "(2, 3, 4, 5, 6, 7)\n"
     ]
    }
   ],
   "source": [
    "#19\n",
    "f = [2, 3, 4, 5, 6, 7]\n",
    "d = tuple(f)\n",
    "print(type(d))\n",
    "print(d)"
   ]
  },
  {
   "cell_type": "code",
   "execution_count": 33,
   "metadata": {},
   "outputs": [
    {
     "name": "stdout",
     "output_type": "stream",
     "text": [
      "<class 'list'>\n",
      "[2, 3, 4, 5, 6, 7]\n"
     ]
    }
   ],
   "source": [
    "#20\n",
    "f = (2, 3, 4, 5, 6, 7)\n",
    "d = list(f)\n",
    "print(type(d))\n",
    "print(d)"
   ]
  }
 ],
 "metadata": {
  "kernelspec": {
   "display_name": "Python 3",
   "language": "python",
   "name": "python3"
  },
  "language_info": {
   "codemirror_mode": {
    "name": "ipython",
    "version": 3
   },
   "file_extension": ".py",
   "mimetype": "text/x-python",
   "name": "python",
   "nbconvert_exporter": "python",
   "pygments_lexer": "ipython3",
   "version": "3.12.9"
  }
 },
 "nbformat": 4,
 "nbformat_minor": 2
}
