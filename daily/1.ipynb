{
 "cells": [
  {
   "cell_type": "markdown",
   "metadata": {},
   "source": [
    "Basic List programs\n",
    "Maximum of two numbers\n",
    "Ways to find length of list\n",
    "Minimum of two numbers\n",
    "To interchange first and last elements in a list\n",
    "To swap two elements in a list\n",
    "to check if element exists in list\n",
    "Reversing a List\n",
    "Cloning or Copying a list\n",
    "Count occurrences of an element in a list\n",
    "find sum and average of List in Python\n",
    "Sum of number digits in List\n",
    "Multiply all numbers in the list\n",
    "find smallest number in a list\n",
    "find largest number in a list\n",
    "find second largest number in a list\n",
    "print even numbers in a list\n",
    "print odd numbers in a List\n",
    "to count Even and Odd numbers in a List\n",
    "to print positive numbers in a list\n",
    "to print negative numbers in a list\n",
    "to count positive and negative numbers in a list\n",
    "Remove multiple elements from a list\n",
    "Remove empty tuples from a list\n",
    "Program to print duplicates from a list of integers\n",
    "Remove first element from list\n",
    "To remove duplicates from list\n",
    "Get unique values from a list\n",
    "Merge Two lists\n",
    "Iterate over a list\n",
    "Find average of a list\n",
    "Perform append at beginning of list\n",
    "To find second largest number in a list\n",
    "Intersection Of two lists\n",
    "Select random value from a list\n",
    "Check if two lists are identical\n",
    "Get the last element of list\n",
    "Remove None values from list\n",
    "Print all common elements of two lists\n",
    "Maximum and minimum element’s position in a list\n",
    "Union of two or more lists"
   ]
  },
  {
   "cell_type": "code",
   "execution_count": 8,
   "metadata": {},
   "outputs": [
    {
     "name": "stdout",
     "output_type": "stream",
     "text": [
      "[1, 2, 3, 4, 5, 0]\n",
      "5\n",
      "6\n",
      "3\n"
     ]
    }
   ],
   "source": [
    "# Basic List programs\n",
    "# Maximum of two numbers\n",
    "# Ways to find length of list\n",
    "# Minimum of two numbers\n",
    "l1 = [1, 2, 3, 4, 5,0]\n",
    "print(l1)\n",
    "a = l1[2]\n",
    "b = l1[4]\n",
    "print(max(a,b))\n",
    "print(len(l1))\n",
    "print(min(a,b))"
   ]
  },
  {
   "cell_type": "code",
   "execution_count": 32,
   "metadata": {},
   "outputs": [
    {
     "name": "stdout",
     "output_type": "stream",
     "text": [
      "the interchange [5, 2, 3, 4, 1]\n",
      "the swap [1, 2, 3, 4, 5]\n",
      "check number is there or not True\n",
      "[5, 4, 3, 2, 1]\n"
     ]
    }
   ],
   "source": [
    "# To interchange first and last elements in a list\n",
    "# To swap two elements in a list\n",
    "# to check if element exists in list\n",
    "# Reversing a List\n",
    "f = [1, 2, 3, 4, 5]\n",
    "f[0], f[4] = f[4], f[0]\n",
    "print(\"the interchange\", f)\n",
    "\n",
    "f[0], f[4] = f[4], f[0]\n",
    "print(\"the swap\", f)\n",
    "\n",
    "print(\"check number is there or not\",3 in f)\n",
    "\n",
    "f.reverse()\n",
    "print(f)"
   ]
  },
  {
   "cell_type": "code",
   "execution_count": 44,
   "metadata": {},
   "outputs": [
    {
     "name": "stdout",
     "output_type": "stream",
     "text": [
      "[1, 2, 3, 4, 55]\n",
      "[1, 2, 3, 4]\n",
      "1\n",
      "the sum is  10 average is 2.5\n"
     ]
    }
   ],
   "source": [
    "# Cloning or Copying a list\n",
    "# Count occurrences of an element in a list\n",
    "# find sum and average of List in Python\n",
    "# Sum of number digits in List\n",
    "\n",
    "f = [1, 2, 3, 4]\n",
    "h = f.copy()\n",
    "h.append(55)\n",
    "print(h)\n",
    "print(f)\n",
    "print(f.count(3))\n",
    "\n",
    "print(\"the sum is \", sum(f), \"average is\", sum(f)/len(f))\n"
   ]
  },
  {
   "cell_type": "code",
   "execution_count": null,
   "metadata": {},
   "outputs": [
    {
     "name": "stdout",
     "output_type": "stream",
     "text": [
      "18\n",
      "1\n",
      "3\n",
      "44\n"
     ]
    }
   ],
   "source": [
    "# Multiply all numbers in the list\n",
    "# find smallest number in a list\n",
    " #find largest number in a list\n",
    "# find second largest number in a list\n",
    "l = [1, 2, 3, 3]\n",
    "result = 1\n",
    "for x in l:\n",
    "    result *= x\n",
    "print(result)\n",
    "print(min(l))\n",
    "print(max(l))\n",
    "\n",
    "# to find the second largest number\n",
    "l1  = [1, 2, 66, 44, 22]\n",
    "l1.sort()\n",
    "print(\"the second largest number\"l1[-2])\n"
   ]
  },
  {
   "cell_type": "code",
   "execution_count": 69,
   "metadata": {},
   "outputs": [
    {
     "name": "stdout",
     "output_type": "stream",
     "text": [
      "the even number are [2, 4, 6, 8, 8]\n",
      "the odd numbers are [1, 3, 5, 7, 7]\n",
      "the even numbers count are  5\n",
      "the odd numbers count are 5\n",
      "[1, 2, 4, 5, 6]\n",
      "[-1, -3, -6, -99]\n",
      "5\n",
      "4\n"
     ]
    }
   ],
   "source": [
    "# print even numbers in a list\n",
    "# print odd numbers in a List\n",
    "# to count Even and Odd numbers in a List\n",
    "# to print positive numbers in a list\n",
    "# to print negative numbers in a list\n",
    "# to count positive and negative numbers in a list\n",
    "l = [1, 2, 3, 4, 5, 6, 7, 7, 8, 8]\n",
    "even =[]\n",
    "even_count = 0\n",
    "odd = []\n",
    "odd_count = 0\n",
    "for x in l:\n",
    "    if x % 2 == 0:\n",
    "        even.append(x)\n",
    "        even_count += 1\n",
    "    else:\n",
    "        odd.append(x)\n",
    "        odd_count += 1\n",
    "print(\"the even number are\", even)\n",
    "print(\"the odd numbers are\", odd)\n",
    "print(\"the even numbers count are \", even_count)\n",
    "print(\"the odd numbers count are\", odd_count)\n",
    "\n",
    "l1 = [1, -1, -3, -6, 2, 4, 5, 6, -99]\n",
    "postive = []\n",
    "p_count = 0\n",
    "negative = []\n",
    "n_count = 0\n",
    "for x in l1:\n",
    "    if x >=0:\n",
    "        postive.append(x)\n",
    "        p_count +=1\n",
    "    else:\n",
    "        negative.append(x)\n",
    "        n_count +=1\n",
    "print(postive)\n",
    "print(negative)\n",
    "print(p_count)\n",
    "print(n_count)"
   ]
  },
  {
   "cell_type": "code",
   "execution_count": 12,
   "metadata": {},
   "outputs": [
    {
     "name": "stdout",
     "output_type": "stream",
     "text": [
      "[2, 4, 5, 5, 2]\n",
      "[1, 2, 3, (), 3]\n",
      "[1, 2, 3, 3]\n",
      "[1, 2, 3, 4, 5, 6, 7]\n",
      "[2, 3, 4, 5]\n"
     ]
    }
   ],
   "source": [
    "#Remove multiple elements from a list\n",
    "#Remove empty tuples from a list\n",
    "#Program to print duplicates from a list of integers\n",
    "#Remove first element from list\n",
    "#To remove duplicates from list\n",
    "l = [1, 2, 3, 4, 5, 5, 1, 2, 3]\n",
    "remove = [1,2,3]\n",
    "for x in l:\n",
    "    if x in remove:\n",
    "        l.remove(x)\n",
    "print(l)\n",
    "\n",
    "l1 = [1, 2, 3, (), 3]\n",
    "print(l1)\n",
    "l1.remove(())\n",
    "print(l1)\n",
    "# Program to print duplicates from a list of integers\n",
    "l3 = [1, 2, 3, 4, 5, 6, 6, 6, 7, 7, 1]\n",
    "dup_list = []\n",
    "for x in l3:\n",
    "    if x not in dup_list:\n",
    "        dup_list.append(x)\n",
    "print(dup_list)\n",
    "\n",
    "#Remove first element from list\n",
    "l5 = [1, 2, 3, 4, 5]\n",
    "l5.pop(0)\n",
    "print(l5)\n"
   ]
  },
  {
   "cell_type": "code",
   "execution_count": 27,
   "metadata": {},
   "outputs": [
    {
     "name": "stdout",
     "output_type": "stream",
     "text": [
      "[1, 2, 3, 4, 7, 5, 1, 2, 5, 6]\n",
      "1\n",
      "2\n",
      "3\n",
      "4\n",
      "7\n",
      "5\n",
      "the avetage is  3.6666666666666665\n",
      "[1, 1, 2, 3, 4, 7, 5]\n",
      "the second largest number is  5\n",
      "[1, 1, 2, 3, 4, 5, 7, 1, 2, 5, 6]\n"
     ]
    }
   ],
   "source": [
    "# Merge Two lists\n",
    "#Iterate over a list\n",
    "#Find average of a list\n",
    "#Perform append at beginning of list\n",
    "#To find second largest number in a list\n",
    "#Intersection Of two lists\n",
    "\n",
    "l1 = [1, 2, 3, 4, 7, 5]\n",
    "l2 = [1,2, 5, 6]\n",
    "merge = l1 + l2\n",
    "print(merge)\n",
    "\n",
    "for x in l1:\n",
    "    print(x)\n",
    "\n",
    "print(\"the avetage is \", sum(l1)/len(l1))\n",
    "\n",
    "l1.insert(0, 1)\n",
    "print(l1)\n",
    "\n",
    "l1.sort()\n",
    "print(\"the second largest number is \", l1[-2])\n",
    "\n",
    "inter = l1 + l2\n",
    "print(inter)"
   ]
  },
  {
   "cell_type": "code",
   "execution_count": 53,
   "metadata": {},
   "outputs": [
    {
     "name": "stdout",
     "output_type": "stream",
     "text": [
      "3\n",
      "to chekc the identical True\n",
      "to get the last element  5\n",
      "1\n",
      "2\n",
      "3\n",
      "1 2 3 4 5 "
     ]
    }
   ],
   "source": [
    "#Select random value from a list\n",
    "#Check if two lists are identical\n",
    "#Get the last element of list\n",
    "#Remove None values from list\n",
    "#Print all common elements of two lists\n",
    "#Maximum and minimum element’s position in a list\n",
    "#Union of two or more lists\n",
    "import random\n",
    "l = [1, 2, 3, 4, 5]\n",
    "random = random.choice(l)\n",
    "print(random)\n",
    "\n",
    "l2 = [1, 2, 3, 4, 5]\n",
    "print(\"to chekc the identical\",   l == l2)\n",
    "\n",
    "print(\"to get the last element \", l[-1])\n",
    "\n",
    "l3 = [1, None, 2, None, 3, None]\n",
    "for x in l3:\n",
    "    if x is not None:\n",
    "        print(x)\n",
    "#Print all common elements of two lists\n",
    "l = [1, 2, 3, 4, 5, 6]\n",
    "l2 = [1, 2, 3, 4, 5, 9]\n",
    "for x in l2:\n",
    "    if x in l:\n",
    "        print(x, end=\" \")\n",
    "\n"
   ]
  },
  {
   "cell_type": "code",
   "execution_count": null,
   "metadata": {},
   "outputs": [
    {
     "name": "stdout",
     "output_type": "stream",
     "text": [
      "{'first': 5, 'second': 6, 'the': 3, 'bigoneto': 8}\n",
      "('the', 3)\n",
      "('bigoneto', 8)\n"
     ]
    }
   ],
   "source": [
    "#Maximum and minimum element’s position in a list (not complited)\n",
    "s = [\"first\", \"second\", \"the\", \"bigoneto\"]\n",
    "d = {}\n",
    "for x in s:\n",
    "    d[x] = len(x)\n",
    "print(d)\n",
    "print(max(d.items()))\n",
    "print(min(d.items()))"
   ]
  },
  {
   "cell_type": "code",
   "execution_count": 76,
   "metadata": {},
   "outputs": [
    {
     "name": "stdout",
     "output_type": "stream",
     "text": [
      "{1, 2, 3, 4, 5}\n"
     ]
    }
   ],
   "source": [
    "#Union of two or more lists\n",
    "list1 = [1, 2, 3]\n",
    "list2 = [3, 4, 5]\n",
    "l1 = set(list1)\n",
    "l2 = set(list2)\n",
    "u = l1.union(l2)\n",
    "print(u)"
   ]
  }
 ],
 "metadata": {
  "kernelspec": {
   "display_name": "Python 3",
   "language": "python",
   "name": "python3"
  },
  "language_info": {
   "codemirror_mode": {
    "name": "ipython",
    "version": 3
   },
   "file_extension": ".py",
   "mimetype": "text/x-python",
   "name": "python",
   "nbconvert_exporter": "python",
   "pygments_lexer": "ipython3",
   "version": "3.12.9"
  }
 },
 "nbformat": 4,
 "nbformat_minor": 2
}
