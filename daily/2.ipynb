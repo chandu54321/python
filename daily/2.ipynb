{
 "cells": [
  {
   "cell_type": "code",
   "execution_count": 10,
   "metadata": {},
   "outputs": [
    {
     "name": "stdout",
     "output_type": "stream",
     "text": [
      "this is symmentrical\n",
      "17\n",
      "gnimmargorPnohtyP\n",
      "PythonPrgramming\n",
      "thisispythonprogramland\n"
     ]
    }
   ],
   "source": [
    "# Check whether the string is Symmetrical or Palindrome\n",
    "# Find length of String\n",
    "# Reverse words in a given String\n",
    "# Remove i’th character from string\n",
    "# Avoid Spaces in string length\n",
    "\n",
    "s = \"PythonProgramming\"\n",
    "if s == s[::-1]:\n",
    "    print(\"this is pallindrome\")\n",
    "else:\n",
    "    print(\"this is symmentrical\")\n",
    "\n",
    "print(len(s))\n",
    "\n",
    "\n",
    "print(s[::-1])\n",
    "d = \"PythonProgramming\"\n",
    "index = 8\n",
    "new_s = \"\"\n",
    "for i in range(len(d)):\n",
    "    if i != index:\n",
    "        new_s += s[i]\n",
    "print(new_s)\n",
    "\n",
    "e = \"this is python program land\"\n",
    "s1 = e.replace(\" \",\"\")\n",
    "print(s1)\n"
   ]
  },
  {
   "cell_type": "code",
   "execution_count": null,
   "metadata": {},
   "outputs": [
    {
     "name": "stdout",
     "output_type": "stream",
     "text": [
      "the even length of words 11\n",
      "THIS IS PYThon program\n",
      "This is python programM\n",
      "having the number\n",
      "not having\n"
     ]
    }
   ],
   "source": [
    "# Print even length words in a string\n",
    "# Uppercase Half String\n",
    "# Capitalize the first and last character of each word in a string\n",
    "# Check if a string has at least one letter and one number\n",
    "# Accept the strings which contains all vowels\n",
    "s = \"this is python program\"\n",
    "d = 0\n",
    "for x in range(len(s)):\n",
    "    if x % 2 == 0:\n",
    "        d += 1\n",
    "print(\"the even length of words\", d)\n",
    "\n",
    "t = len(s) // 2\n",
    "ha_up = s[:t].upper() + s[t:]\n",
    "print(ha_up)\n",
    "\n",
    "s1 = s[0].upper() +s[1:24] + s[-1].upper()\n",
    "print(s1)\n",
    "\n",
    "# Check if a string has at least one letter and one number\n",
    "s = \"this 1 is\"\n",
    "\n",
    "for x in s:\n",
    "    if x.isdigit():\n",
    "        print(\"having the number\")\n",
    "        continue\n",
    "    else:\n",
    "        pass\n",
    "\n",
    "# Accept the strings which contains all vowels (not done )\n",
    "s = input(\"enter the string\")\n",
    "vowels = {'a', 'e', 'i', 'o', 'u'}\n",
    "for x in s:\n",
    "    if s in v:\n",
    "        print(\"accept\")\n",
    "else:\n",
    "   print(\"not having\")"
   ]
  },
  {
   "cell_type": "code",
   "execution_count": 45,
   "metadata": {},
   "outputs": [
    {
     "name": "stdout",
     "output_type": "stream",
     "text": [
      "{'first': 2, 'is': 2, 'then': 2, 'not': 1, 'same': 1}\n",
      "this are greater  one first\n",
      "this are greater  one is\n",
      "this are greater  one first\n",
      "this are greater  one then\n",
      "this are greater  one is\n",
      "this are greater  one then\n",
      "this are less tha not\n",
      "this are less tha same\n",
      "the total for greater than one are 6\n",
      "the total count for less than one  2\n"
     ]
    }
   ],
   "source": [
    "# Count the Number of matching characters in a pair of string\n",
    "# Count number of vowels using sets in given string\n",
    "# Remove all duplicates from a given string\n",
    "# Least Frequent Character in String\n",
    "# Maximum frequency character in String\n",
    "\n",
    "#  Count the Number of matching characters in a pair of string\n",
    "# Least Frequent Character in String\n",
    "s = \"first is first then is then not same\"\n",
    "s1 = s.split()\n",
    "d = {}\n",
    "for x in s1:\n",
    "    d[x] = d.get(x, 0) +1\n",
    "print(d)\n",
    "count = 0\n",
    "count1 = 0\n",
    "for x in s1:\n",
    "    if d[x] > 1:\n",
    "        count += 1\n",
    "        print(\"this are greater  one\", x)\n",
    "    else:\n",
    "        count1 += 1\n",
    "        print(\"this are less tha\", x)\n",
    "\n",
    "print(\"the total for greater than one are\", count)\n",
    "print(\"the total count for less than one \" ,count1)"
   ]
  },
  {
   "cell_type": "code",
   "execution_count": 31,
   "metadata": {},
   "outputs": [
    {
     "name": "stdout",
     "output_type": "stream",
     "text": [
      "5\n",
      "{'python', 'this', 'is'}\n",
      "{'f': 1, 'i': 3, 'r': 1, 's': 3, 't': 2, ' ': 2, 'h': 1, 'z': 1}\n",
      "i 3 s 3 "
     ]
    }
   ],
   "source": [
    "# Count number of vowels using sets in given string\n",
    "s = \"python is programming\"\n",
    "vowels = \"aeiou\"\n",
    "count = 0\n",
    "for x in s:\n",
    "    if x in vowels:\n",
    "        count += 1\n",
    "print(count)\n",
    "\n",
    "# Remove all duplicates from a given string\n",
    "d = \"this is this is python is python\"\n",
    "d1 = set(d.split())\n",
    "print(d1)\n",
    "\n",
    "# Maximum frequency character in String\n",
    "d3 = \"first this isz\"\n",
    "d = {}\n",
    "for x in d3:\n",
    "    if x  in d:\n",
    "        d[x] += 1 \n",
    "    else:\n",
    "        d[x] = 1\n",
    "print(d)\n",
    "mm = max(d.values())\n",
    "for x,y in d.items():\n",
    "    if y == mm:\n",
    "        print(x,y, end= \" \")\n",
    "\n"
   ]
  },
  {
   "cell_type": "code",
   "execution_count": 35,
   "metadata": {},
   "outputs": [
    {
     "name": "stdout",
     "output_type": "stream",
     "text": [
      "{'t': 5, 'h': 3, 'i': 2, 's': 2, ' ': 5, 'f': 2, 'o': 2, 'r': 2, 'd': 2, 'e': 2, 'q': 1, 'u': 1, 'n': 1, 'c': 1, 'y': 1}\n",
      "['t', 5] ['h', 3] [' ', 5] ['q', 1] ['u', 1] ['n', 1] ['c', 1] ['y', 1] "
     ]
    }
   ],
   "source": [
    "# Odd Frequency Characters\n",
    "# Specific Characters Frequency in String List\n",
    "# Frequency of numbers in String\n",
    "\n",
    "\n",
    "s = \"ttttthis is for odd frequency hh\"\n",
    "d = {}\n",
    "for x in s:\n",
    "    if x in d:\n",
    "        d[x] +=1\n",
    "    else:\n",
    "        d[x] = 1\n",
    "print(d)\n",
    "for x, y in d.items():\n",
    "    if y % 2 != 0:\n",
    "        print([x,y], end=\" \")\n"
   ]
  },
  {
   "cell_type": "code",
   "execution_count": 105,
   "metadata": {},
   "outputs": [
    {
     "name": "stdout",
     "output_type": "stream",
     "text": [
      "5\n"
     ]
    }
   ],
   "source": [
    "# Specific Characters Frequency in String List\n",
    "s = \"iii sssss tttt ggg\"\n",
    "d = input(\"enter\")\n",
    "if d in s:\n",
    "    print(s.count(d))\n",
    "        "
   ]
  },
  {
   "cell_type": "code",
   "execution_count": 111,
   "metadata": {},
   "outputs": [
    {
     "name": "stdout",
     "output_type": "stream",
     "text": [
      "{'1': 3, '4': 2}\n"
     ]
    }
   ],
   "source": [
    "# Frequency of numbers in String\n",
    "s = \"111 string is 44\"\n",
    "d = {}\n",
    "for c in s:\n",
    "    if c.isdigit():\n",
    "        if c in d:\n",
    "            d[c] +=1\n",
    "        else:\n",
    "            d[c] = 1\n",
    "print(d)\n",
    "\n"
   ]
  },
  {
   "cell_type": "code",
   "execution_count": null,
   "metadata": {},
   "outputs": [],
   "source": [
    "\n",
    "# Python program to Find the size of a Tuple\n",
    "# Python – Maximum and Minimum K elements in Tuple\n",
    "# Create a list of tuples from given list having number and its cube in each tuple\n",
    "# Python – Adding Tuple to List and vice – versa\n",
    "# Python – Sum of tuple elements"
   ]
  },
  {
   "cell_type": "code",
   "execution_count": 4,
   "metadata": {},
   "outputs": [
    {
     "name": "stdout",
     "output_type": "stream",
     "text": [
      "4\n",
      "4\n",
      "1\n"
     ]
    }
   ],
   "source": [
    "# Python program to Find the size of a Tuple\n",
    "# Python – Maximum and Minimum K elements in Tuple\n",
    "f = (1, 2, 3, 4)\n",
    "print(len(f))\n",
    "print(max(f))\n",
    "print(min(f))"
   ]
  },
  {
   "cell_type": "code",
   "execution_count": 11,
   "metadata": {},
   "outputs": [
    {
     "name": "stdout",
     "output_type": "stream",
     "text": [
      "[(1, 1), (2, 8), (3, 27), (4, 64)]\n"
     ]
    }
   ],
   "source": [
    "# Create a list of tuples from given list having number and its cube in each tuple\n",
    "l = [1, 2, 3, 4]\n",
    "l1 = []\n",
    "for x in l:\n",
    "    l1.append((x, x ** 3))\n",
    "print(l1)"
   ]
  },
  {
   "cell_type": "code",
   "execution_count": 14,
   "metadata": {},
   "outputs": [
    {
     "name": "stdout",
     "output_type": "stream",
     "text": [
      "[1, 2, 3, 1, 2, 3]\n",
      "[1, 2, 3, (1, 2, 3)]\n"
     ]
    }
   ],
   "source": [
    "# Python – Adding Tuple to List and vice – vers\n",
    "t = (1, 2, 3)\n",
    "l = [1, 2, 3]\n",
    "t2 = list(t)\n",
    "r = l + t2\n",
    "print(r)\n",
    "l.append(t)\n",
    "print(l)"
   ]
  },
  {
   "cell_type": "code",
   "execution_count": 15,
   "metadata": {},
   "outputs": [
    {
     "name": "stdout",
     "output_type": "stream",
     "text": [
      "10\n"
     ]
    }
   ],
   "source": [
    "# Python – Sum of tuple elements\n",
    "t = (1, 2, 3, 4)\n",
    "print(sum(t))"
   ]
  },
  {
   "cell_type": "code",
   "execution_count": 24,
   "metadata": {},
   "outputs": [
    {
     "name": "stdout",
     "output_type": "stream",
     "text": [
      "the number is greater\n",
      "the number is greater\n",
      "the numbers you guessed is 8\n",
      "the remaning the attemts are 4\n"
     ]
    }
   ],
   "source": [
    "# number guessing game\n",
    "import random\n",
    "\n",
    "n = random.randint(1,11)\n",
    "attemts = 0\n",
    "total_attemt = 7\n",
    "while attemts < total_attemt:\n",
    "    s = int(input(\"enter the number\"))\n",
    "    attemts += 1\n",
    "    if n > s:\n",
    "        print(\"the number is greater\")\n",
    "    elif n < s:\n",
    "        print(\"u enterd the below number\")\n",
    "    else:\n",
    "        print(f\"the numbers you guessed is {s}\")\n",
    "        break\n",
    "remining =  total_attemt - attemts\n",
    "print(\"the remaning the attemts are\", remining)   "
   ]
  }
 ],
 "metadata": {
  "kernelspec": {
   "display_name": "Python 3",
   "language": "python",
   "name": "python3"
  },
  "language_info": {
   "codemirror_mode": {
    "name": "ipython",
    "version": 3
   },
   "file_extension": ".py",
   "mimetype": "text/x-python",
   "name": "python",
   "nbconvert_exporter": "python",
   "pygments_lexer": "ipython3",
   "version": "3.12.9"
  }
 },
 "nbformat": 4,
 "nbformat_minor": 2
}
